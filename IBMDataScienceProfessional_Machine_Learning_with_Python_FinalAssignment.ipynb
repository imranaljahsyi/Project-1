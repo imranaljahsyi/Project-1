{
  "nbformat": 4,
  "nbformat_minor": 0,
  "metadata": {
    "colab": {
      "name": "IBMDataScienceProfessional_Machine Learning with Python_FinalAssignment.ipynb",
      "provenance": [],
      "authorship_tag": "ABX9TyNSEQ9c3h7I+Mt/ueplaaga",
      "include_colab_link": true
    },
    "kernelspec": {
      "name": "python3",
      "display_name": "Python 3"
    }
  },
  "cells": [
    {
      "cell_type": "markdown",
      "metadata": {
        "id": "view-in-github",
        "colab_type": "text"
      },
      "source": [
        "<a href=\"https://colab.research.google.com/github/imranaljahsyi/REPOSITORY-1/blob/main/IBMDataScienceProfessional_Machine_Learning_with_Python_FinalAssignment.ipynb\" target=\"_parent\"><img src=\"https://colab.research.google.com/assets/colab-badge.svg\" alt=\"Open In Colab\"/></a>"
      ]
    },
    {
      "cell_type": "markdown",
      "metadata": {
        "id": "OoCbP7NOKAKc"
      },
      "source": [
        "*Welcome to my assignment submission. My name is Imran* \r\n",
        "\r\n",
        "*I apologise for not completing this assignment via IBM Watson Studio, as requested on the module for this assignment. The reason for this is that my free month has ended and I won't be able to access it until January. I have alternatively decided to use GoogleColab for this project as it has a unit testing interface which is able to run .ipynb files similar to JupyterLab on IBM Watson Studio.*\r\n",
        "\r\n",
        "\r\n"
      ]
    },
    {
      "cell_type": "markdown",
      "metadata": {
        "id": "JUW_0chrJBa3"
      },
      "source": [
        "# **Instructions**\r\n",
        "\r\n",
        "Now that you have been equipped with the skills to use different Machine Learning algorithms, over the course of five weeks, you will have the opportunity to practice and apply it on a dataset. In this project, you will complete a notebook where you will build a classifier to predict whether a loan case will be paid off or not.\r\n",
        "\r\n",
        "You load a historical dataset from previous loan applications, clean the data, and apply different classification algorithm on the data. You are expected to use the following algorithms to build your models:\r\n",
        "\r\n",
        "\r\n",
        "\r\n",
        "1.  k-Nearest Neighbour\r\n",
        "2.  Decision Tree\r\n",
        "3. Support Vector Machine (SVM)\r\n",
        "4. Logistic Regression\r\n",
        "\r\n",
        "The results is reported as the accuracy of each classifier, using the following metrics when these are applicable:\r\n",
        "\r\n",
        "*   Jaccard index\r\n",
        "*   F1-score\r\n",
        "*   LogLoass\r\n",
        "\r\n",
        "\r\n",
        "\r\n",
        "\r\n",
        "\r\n",
        "\r\n",
        "\r\n"
      ]
    },
    {
      "cell_type": "markdown",
      "metadata": {
        "id": "0kIS77_XJ0jr"
      },
      "source": [
        "### 1. Import Libraries & Download Dataset"
      ]
    },
    {
      "cell_type": "code",
      "metadata": {
        "id": "L2E797q5J7eY"
      },
      "source": [
        "import itertools\r\n",
        "import numpy as np\r\n",
        "import matplotlib.pyplot as plt\r\n",
        "from matplotlib.ticker import NullFormatter\r\n",
        "import pandas as pd\r\n",
        "import numpy as np\r\n",
        "import matplotlib.ticker as ticker\r\n",
        "from sklearn import preprocessing\r\n",
        "%matplotlib inline"
      ],
      "execution_count": 10,
      "outputs": []
    },
    {
      "cell_type": "code",
      "metadata": {
        "colab": {
          "base_uri": "https://localhost:8080/"
        },
        "id": "U4MBYxkOLgdy",
        "outputId": "16459af1-396d-4e1d-fdd3-a9e50d030bf3"
      },
      "source": [
        "!wget -O loan_train.csv https://cf-courses-data.s3.us.cloud-object-storage.appdomain.cloud/IBMDeveloperSkillsNetwork-ML0101EN-SkillsNetwork/labs/FinalModule_Coursera/data/loan_train.csv\r\n",
        "\r\n",
        "print (\"Dataset Downloaded\")"
      ],
      "execution_count": 11,
      "outputs": [
        {
          "output_type": "stream",
          "text": [
            "--2020-12-18 14:09:46--  https://cf-courses-data.s3.us.cloud-object-storage.appdomain.cloud/IBMDeveloperSkillsNetwork-ML0101EN-SkillsNetwork/labs/FinalModule_Coursera/data/loan_train.csv\n",
            "Resolving cf-courses-data.s3.us.cloud-object-storage.appdomain.cloud (cf-courses-data.s3.us.cloud-object-storage.appdomain.cloud)... 169.63.118.104\n",
            "Connecting to cf-courses-data.s3.us.cloud-object-storage.appdomain.cloud (cf-courses-data.s3.us.cloud-object-storage.appdomain.cloud)|169.63.118.104|:443... connected.\n",
            "HTTP request sent, awaiting response... 200 OK\n",
            "Length: 23101 (23K) [text/csv]\n",
            "Saving to: ‘loan_train.csv’\n",
            "\n",
            "loan_train.csv      100%[===================>]  22.56K  --.-KB/s    in 0s      \n",
            "\n",
            "2020-12-18 14:09:47 (229 MB/s) - ‘loan_train.csv’ saved [23101/23101]\n",
            "\n",
            "Dataset Downloaded\n"
          ],
          "name": "stdout"
        }
      ]
    },
    {
      "cell_type": "markdown",
      "metadata": {
        "id": "2RTvEbKsL-Bm"
      },
      "source": [
        "### Load Data From CSV File"
      ]
    },
    {
      "cell_type": "code",
      "metadata": {
        "colab": {
          "base_uri": "https://localhost:8080/",
          "height": 204
        },
        "id": "kiyoDopAL-vA",
        "outputId": "cc96fb47-37c2-471b-e642-d6a0a5b5a6b8"
      },
      "source": [
        "df = pd.read_csv('loan_train.csv')\r\n",
        "df.head()"
      ],
      "execution_count": 12,
      "outputs": [
        {
          "output_type": "execute_result",
          "data": {
            "text/html": [
              "<div>\n",
              "<style scoped>\n",
              "    .dataframe tbody tr th:only-of-type {\n",
              "        vertical-align: middle;\n",
              "    }\n",
              "\n",
              "    .dataframe tbody tr th {\n",
              "        vertical-align: top;\n",
              "    }\n",
              "\n",
              "    .dataframe thead th {\n",
              "        text-align: right;\n",
              "    }\n",
              "</style>\n",
              "<table border=\"1\" class=\"dataframe\">\n",
              "  <thead>\n",
              "    <tr style=\"text-align: right;\">\n",
              "      <th></th>\n",
              "      <th>Unnamed: 0</th>\n",
              "      <th>Unnamed: 0.1</th>\n",
              "      <th>loan_status</th>\n",
              "      <th>Principal</th>\n",
              "      <th>terms</th>\n",
              "      <th>effective_date</th>\n",
              "      <th>due_date</th>\n",
              "      <th>age</th>\n",
              "      <th>education</th>\n",
              "      <th>Gender</th>\n",
              "    </tr>\n",
              "  </thead>\n",
              "  <tbody>\n",
              "    <tr>\n",
              "      <th>0</th>\n",
              "      <td>0</td>\n",
              "      <td>0</td>\n",
              "      <td>PAIDOFF</td>\n",
              "      <td>1000</td>\n",
              "      <td>30</td>\n",
              "      <td>9/8/2016</td>\n",
              "      <td>10/7/2016</td>\n",
              "      <td>45</td>\n",
              "      <td>High School or Below</td>\n",
              "      <td>male</td>\n",
              "    </tr>\n",
              "    <tr>\n",
              "      <th>1</th>\n",
              "      <td>2</td>\n",
              "      <td>2</td>\n",
              "      <td>PAIDOFF</td>\n",
              "      <td>1000</td>\n",
              "      <td>30</td>\n",
              "      <td>9/8/2016</td>\n",
              "      <td>10/7/2016</td>\n",
              "      <td>33</td>\n",
              "      <td>Bechalor</td>\n",
              "      <td>female</td>\n",
              "    </tr>\n",
              "    <tr>\n",
              "      <th>2</th>\n",
              "      <td>3</td>\n",
              "      <td>3</td>\n",
              "      <td>PAIDOFF</td>\n",
              "      <td>1000</td>\n",
              "      <td>15</td>\n",
              "      <td>9/8/2016</td>\n",
              "      <td>9/22/2016</td>\n",
              "      <td>27</td>\n",
              "      <td>college</td>\n",
              "      <td>male</td>\n",
              "    </tr>\n",
              "    <tr>\n",
              "      <th>3</th>\n",
              "      <td>4</td>\n",
              "      <td>4</td>\n",
              "      <td>PAIDOFF</td>\n",
              "      <td>1000</td>\n",
              "      <td>30</td>\n",
              "      <td>9/9/2016</td>\n",
              "      <td>10/8/2016</td>\n",
              "      <td>28</td>\n",
              "      <td>college</td>\n",
              "      <td>female</td>\n",
              "    </tr>\n",
              "    <tr>\n",
              "      <th>4</th>\n",
              "      <td>6</td>\n",
              "      <td>6</td>\n",
              "      <td>PAIDOFF</td>\n",
              "      <td>1000</td>\n",
              "      <td>30</td>\n",
              "      <td>9/9/2016</td>\n",
              "      <td>10/8/2016</td>\n",
              "      <td>29</td>\n",
              "      <td>college</td>\n",
              "      <td>male</td>\n",
              "    </tr>\n",
              "  </tbody>\n",
              "</table>\n",
              "</div>"
            ],
            "text/plain": [
              "   Unnamed: 0  Unnamed: 0.1 loan_status  ...  age             education  Gender\n",
              "0           0             0     PAIDOFF  ...   45  High School or Below    male\n",
              "1           2             2     PAIDOFF  ...   33              Bechalor  female\n",
              "2           3             3     PAIDOFF  ...   27               college    male\n",
              "3           4             4     PAIDOFF  ...   28               college  female\n",
              "4           6             6     PAIDOFF  ...   29               college    male\n",
              "\n",
              "[5 rows x 10 columns]"
            ]
          },
          "metadata": {
            "tags": []
          },
          "execution_count": 12
        }
      ]
    },
    {
      "cell_type": "code",
      "metadata": {
        "colab": {
          "base_uri": "https://localhost:8080/"
        },
        "id": "KBtZ77hwMJ6z",
        "outputId": "8175d22d-5fa8-4639-a347-3a3902d41260"
      },
      "source": [
        "df.shape"
      ],
      "execution_count": 13,
      "outputs": [
        {
          "output_type": "execute_result",
          "data": {
            "text/plain": [
              "(346, 10)"
            ]
          },
          "metadata": {
            "tags": []
          },
          "execution_count": 13
        }
      ]
    },
    {
      "cell_type": "markdown",
      "metadata": {
        "id": "sDu7DGXYMTZt"
      },
      "source": [
        "### Convert to date time object\r\n"
      ]
    },
    {
      "cell_type": "code",
      "metadata": {
        "colab": {
          "base_uri": "https://localhost:8080/",
          "height": 204
        },
        "id": "dUj8ocgJMUf2",
        "outputId": "884ced3b-e2ae-40ec-a7c9-a117f68442c7"
      },
      "source": [
        "df['due_date'] = pd.to_datetime(df['due_date'])\r\n",
        "df['effective_date'] = pd.to_datetime(df['effective_date'])\r\n",
        "df.head()"
      ],
      "execution_count": 14,
      "outputs": [
        {
          "output_type": "execute_result",
          "data": {
            "text/html": [
              "<div>\n",
              "<style scoped>\n",
              "    .dataframe tbody tr th:only-of-type {\n",
              "        vertical-align: middle;\n",
              "    }\n",
              "\n",
              "    .dataframe tbody tr th {\n",
              "        vertical-align: top;\n",
              "    }\n",
              "\n",
              "    .dataframe thead th {\n",
              "        text-align: right;\n",
              "    }\n",
              "</style>\n",
              "<table border=\"1\" class=\"dataframe\">\n",
              "  <thead>\n",
              "    <tr style=\"text-align: right;\">\n",
              "      <th></th>\n",
              "      <th>Unnamed: 0</th>\n",
              "      <th>Unnamed: 0.1</th>\n",
              "      <th>loan_status</th>\n",
              "      <th>Principal</th>\n",
              "      <th>terms</th>\n",
              "      <th>effective_date</th>\n",
              "      <th>due_date</th>\n",
              "      <th>age</th>\n",
              "      <th>education</th>\n",
              "      <th>Gender</th>\n",
              "    </tr>\n",
              "  </thead>\n",
              "  <tbody>\n",
              "    <tr>\n",
              "      <th>0</th>\n",
              "      <td>0</td>\n",
              "      <td>0</td>\n",
              "      <td>PAIDOFF</td>\n",
              "      <td>1000</td>\n",
              "      <td>30</td>\n",
              "      <td>2016-09-08</td>\n",
              "      <td>2016-10-07</td>\n",
              "      <td>45</td>\n",
              "      <td>High School or Below</td>\n",
              "      <td>male</td>\n",
              "    </tr>\n",
              "    <tr>\n",
              "      <th>1</th>\n",
              "      <td>2</td>\n",
              "      <td>2</td>\n",
              "      <td>PAIDOFF</td>\n",
              "      <td>1000</td>\n",
              "      <td>30</td>\n",
              "      <td>2016-09-08</td>\n",
              "      <td>2016-10-07</td>\n",
              "      <td>33</td>\n",
              "      <td>Bechalor</td>\n",
              "      <td>female</td>\n",
              "    </tr>\n",
              "    <tr>\n",
              "      <th>2</th>\n",
              "      <td>3</td>\n",
              "      <td>3</td>\n",
              "      <td>PAIDOFF</td>\n",
              "      <td>1000</td>\n",
              "      <td>15</td>\n",
              "      <td>2016-09-08</td>\n",
              "      <td>2016-09-22</td>\n",
              "      <td>27</td>\n",
              "      <td>college</td>\n",
              "      <td>male</td>\n",
              "    </tr>\n",
              "    <tr>\n",
              "      <th>3</th>\n",
              "      <td>4</td>\n",
              "      <td>4</td>\n",
              "      <td>PAIDOFF</td>\n",
              "      <td>1000</td>\n",
              "      <td>30</td>\n",
              "      <td>2016-09-09</td>\n",
              "      <td>2016-10-08</td>\n",
              "      <td>28</td>\n",
              "      <td>college</td>\n",
              "      <td>female</td>\n",
              "    </tr>\n",
              "    <tr>\n",
              "      <th>4</th>\n",
              "      <td>6</td>\n",
              "      <td>6</td>\n",
              "      <td>PAIDOFF</td>\n",
              "      <td>1000</td>\n",
              "      <td>30</td>\n",
              "      <td>2016-09-09</td>\n",
              "      <td>2016-10-08</td>\n",
              "      <td>29</td>\n",
              "      <td>college</td>\n",
              "      <td>male</td>\n",
              "    </tr>\n",
              "  </tbody>\n",
              "</table>\n",
              "</div>"
            ],
            "text/plain": [
              "   Unnamed: 0  Unnamed: 0.1 loan_status  ...  age             education  Gender\n",
              "0           0             0     PAIDOFF  ...   45  High School or Below    male\n",
              "1           2             2     PAIDOFF  ...   33              Bechalor  female\n",
              "2           3             3     PAIDOFF  ...   27               college    male\n",
              "3           4             4     PAIDOFF  ...   28               college  female\n",
              "4           6             6     PAIDOFF  ...   29               college    male\n",
              "\n",
              "[5 rows x 10 columns]"
            ]
          },
          "metadata": {
            "tags": []
          },
          "execution_count": 14
        }
      ]
    },
    {
      "cell_type": "markdown",
      "metadata": {
        "id": "s-tB7qWIP98Q"
      },
      "source": [
        "# Data visualization and pre-processing\r\n"
      ]
    },
    {
      "cell_type": "code",
      "metadata": {
        "colab": {
          "base_uri": "https://localhost:8080/"
        },
        "id": "on3Q1neOP-vQ",
        "outputId": "7553a47b-4556-4cbe-f269-fab9f4cff71d"
      },
      "source": [
        "df['loan_status'].value_counts()"
      ],
      "execution_count": 15,
      "outputs": [
        {
          "output_type": "execute_result",
          "data": {
            "text/plain": [
              "PAIDOFF       260\n",
              "COLLECTION     86\n",
              "Name: loan_status, dtype: int64"
            ]
          },
          "metadata": {
            "tags": []
          },
          "execution_count": 15
        }
      ]
    },
    {
      "cell_type": "markdown",
      "metadata": {
        "id": "NuCiKcXJQIir"
      },
      "source": [
        "### Import Seaborn ###\r\n",
        "\r\n",
        " *The method to install seaborn into Google Collab may differ with that of IBM Watson Studio*"
      ]
    },
    {
      "cell_type": "code",
      "metadata": {
        "colab": {
          "base_uri": "https://localhost:8080/"
        },
        "id": "Rk4FguHEUM65",
        "outputId": "3d92ef69-0154-4f68-ed66-34a6e9b6abe5"
      },
      "source": [
        "# same\r\n",
        "!wget -c https://repo.anaconda.com/miniconda/Miniconda3-4.5.4-Linux-x86_64.sh\r\n",
        "!chmod +x Miniconda3-4.5.4-Linux-x86_64.sh\r\n",
        "!bash ./Miniconda3-4.5.4-Linux-x86_64.sh -b -f -p /usr/local\r\n",
        "# update 1\r\n",
        "!conda install -q -y --prefix /usr/local python=3.6 ujson\r\n",
        "# update 2\r\n",
        "import sys\r\n",
        "sys.path.append('/usr/local/lib/python3.6/site-packages')\r\n",
        "# test it\r\n",
        "import ujson\r\n",
        "print(ujson.dumps({1:2}))"
      ],
      "execution_count": 27,
      "outputs": [
        {
          "output_type": "stream",
          "text": [
            "--2020-12-18 14:46:24--  https://repo.anaconda.com/miniconda/Miniconda3-4.5.4-Linux-x86_64.sh\n",
            "Resolving repo.anaconda.com (repo.anaconda.com)... 104.16.130.3, 104.16.131.3, 2606:4700::6810:8203, ...\n",
            "Connecting to repo.anaconda.com (repo.anaconda.com)|104.16.130.3|:443... connected.\n",
            "HTTP request sent, awaiting response... 200 OK\n",
            "Length: 58468498 (56M) [application/x-sh]\n",
            "Saving to: ‘Miniconda3-4.5.4-Linux-x86_64.sh’\n",
            "\n",
            "Miniconda3-4.5.4-Li 100%[===================>]  55.76M   177MB/s    in 0.3s    \n",
            "\n",
            "2020-12-18 14:46:24 (177 MB/s) - ‘Miniconda3-4.5.4-Linux-x86_64.sh’ saved [58468498/58468498]\n",
            "\n",
            "PREFIX=/usr/local\n",
            "installing: python-3.6.5-hc3d631a_2 ...\n",
            "Python 3.6.5 :: Anaconda, Inc.\n",
            "installing: ca-certificates-2018.03.07-0 ...\n",
            "installing: conda-env-2.6.0-h36134e3_1 ...\n",
            "installing: libgcc-ng-7.2.0-hdf63c60_3 ...\n",
            "installing: libstdcxx-ng-7.2.0-hdf63c60_3 ...\n",
            "installing: libffi-3.2.1-hd88cf55_4 ...\n",
            "installing: ncurses-6.1-hf484d3e_0 ...\n",
            "installing: openssl-1.0.2o-h20670df_0 ...\n",
            "installing: tk-8.6.7-hc745277_3 ...\n",
            "installing: xz-5.2.4-h14c3975_4 ...\n",
            "installing: yaml-0.1.7-had09818_2 ...\n",
            "installing: zlib-1.2.11-ha838bed_2 ...\n",
            "installing: libedit-3.1.20170329-h6b74fdf_2 ...\n",
            "installing: readline-7.0-ha6073c6_4 ...\n",
            "installing: sqlite-3.23.1-he433501_0 ...\n",
            "installing: asn1crypto-0.24.0-py36_0 ...\n",
            "installing: certifi-2018.4.16-py36_0 ...\n",
            "installing: chardet-3.0.4-py36h0f667ec_1 ...\n",
            "installing: idna-2.6-py36h82fb2a8_1 ...\n",
            "installing: pycosat-0.6.3-py36h0a5515d_0 ...\n",
            "installing: pycparser-2.18-py36hf9f622e_1 ...\n",
            "installing: pysocks-1.6.8-py36_0 ...\n",
            "installing: ruamel_yaml-0.15.37-py36h14c3975_2 ...\n",
            "installing: six-1.11.0-py36h372c433_1 ...\n",
            "installing: cffi-1.11.5-py36h9745a5d_0 ...\n",
            "installing: setuptools-39.2.0-py36_0 ...\n",
            "installing: cryptography-2.2.2-py36h14c3975_0 ...\n",
            "installing: wheel-0.31.1-py36_0 ...\n",
            "installing: pip-10.0.1-py36_0 ...\n",
            "installing: pyopenssl-18.0.0-py36_0 ...\n",
            "installing: urllib3-1.22-py36hbe7ace6_0 ...\n",
            "installing: requests-2.18.4-py36he2e5f8d_1 ...\n",
            "installing: conda-4.5.4-py36_0 ...\n",
            "installation finished.\n",
            "WARNING:\n",
            "    You currently have a PYTHONPATH environment variable set. This may cause\n",
            "    unexpected behavior when running the Python interpreter in Miniconda3.\n",
            "    For best results, please verify that your PYTHONPATH only points to\n",
            "    directories of packages that are compatible with the Python interpreter\n",
            "    in Miniconda3: /usr/local\n",
            "Solving environment: ...working... done\n",
            "\n",
            "## Package Plan ##\n",
            "\n",
            "  environment location: /usr/local\n",
            "\n",
            "  added / updated specs: \n",
            "    - python=3.6\n",
            "    - ujson\n",
            "\n",
            "\n",
            "The following packages will be downloaded:\n",
            "\n",
            "    package                    |            build\n",
            "    ---------------------------|-----------------\n",
            "    libgcc-ng-9.1.0            |       hdf63c60_0         8.1 MB\n",
            "    readline-8.0               |       h7b6447c_0         428 KB\n",
            "    ca-certificates-2020.12.8  |       h06a4308_0         128 KB\n",
            "    python-3.6.12              |       hcff3b4d_2        34.0 MB\n",
            "    libstdcxx-ng-9.1.0         |       hdf63c60_0         4.0 MB\n",
            "    openssl-1.1.1i             |       h27cfd23_0         3.8 MB\n",
            "    ncurses-6.2                |       he6710b0_1         1.1 MB\n",
            "    xz-5.2.5                   |       h7b6447c_0         438 KB\n",
            "    sqlite-3.33.0              |       h62c20be_0         2.0 MB\n",
            "    ld_impl_linux-64-2.33.1    |       h53a641e_7         645 KB\n",
            "    libffi-3.3                 |       he6710b0_2          54 KB\n",
            "    zlib-1.2.11                |       h7b6447c_3         120 KB\n",
            "    _libgcc_mutex-0.1          |             main           3 KB\n",
            "    ujson-4.0.1                |   py36he6710b0_0          48 KB\n",
            "    wheel-0.36.2               |     pyhd3eb1b0_0          31 KB\n",
            "    libedit-3.1.20191231       |       h14c3975_1         121 KB\n",
            "    pip-20.3.3                 |   py36h06a4308_0         2.0 MB\n",
            "    tk-8.6.10                  |       hbc83047_0         3.2 MB\n",
            "    certifi-2020.12.5          |   py36h06a4308_0         144 KB\n",
            "    setuptools-51.0.0          |   py36h06a4308_2         936 KB\n",
            "    ------------------------------------------------------------\n",
            "                                           Total:        61.4 MB\n",
            "\n",
            "The following NEW packages will be INSTALLED:\n",
            "\n",
            "    _libgcc_mutex:    0.1-main               \n",
            "    ld_impl_linux-64: 2.33.1-h53a641e_7      \n",
            "    ujson:            4.0.1-py36he6710b0_0   \n",
            "\n",
            "The following packages will be UPDATED:\n",
            "\n",
            "    ca-certificates:  2018.03.07-0            --> 2020.12.8-h06a4308_0    \n",
            "    certifi:          2018.4.16-py36_0        --> 2020.12.5-py36h06a4308_0\n",
            "    libedit:          3.1.20170329-h6b74fdf_2 --> 3.1.20191231-h14c3975_1 \n",
            "    libffi:           3.2.1-hd88cf55_4        --> 3.3-he6710b0_2          \n",
            "    libgcc-ng:        7.2.0-hdf63c60_3        --> 9.1.0-hdf63c60_0        \n",
            "    libstdcxx-ng:     7.2.0-hdf63c60_3        --> 9.1.0-hdf63c60_0        \n",
            "    ncurses:          6.1-hf484d3e_0          --> 6.2-he6710b0_1          \n",
            "    openssl:          1.0.2o-h20670df_0       --> 1.1.1i-h27cfd23_0       \n",
            "    pip:              10.0.1-py36_0           --> 20.3.3-py36h06a4308_0   \n",
            "    python:           3.6.5-hc3d631a_2        --> 3.6.12-hcff3b4d_2       \n",
            "    readline:         7.0-ha6073c6_4          --> 8.0-h7b6447c_0          \n",
            "    setuptools:       39.2.0-py36_0           --> 51.0.0-py36h06a4308_2   \n",
            "    sqlite:           3.23.1-he433501_0       --> 3.33.0-h62c20be_0       \n",
            "    tk:               8.6.7-hc745277_3        --> 8.6.10-hbc83047_0       \n",
            "    wheel:            0.31.1-py36_0           --> 0.36.2-pyhd3eb1b0_0     \n",
            "    xz:               5.2.4-h14c3975_4        --> 5.2.5-h7b6447c_0        \n",
            "    zlib:             1.2.11-ha838bed_2       --> 1.2.11-h7b6447c_3       \n",
            "\n",
            "Preparing transaction: ...working... done\n",
            "Verifying transaction: ...working... done\n",
            "Executing transaction: ...working... done\n",
            "{\"1\":2}\n"
          ],
          "name": "stdout"
        }
      ]
    },
    {
      "cell_type": "code",
      "metadata": {
        "colab": {
          "base_uri": "https://localhost:8080/"
        },
        "id": "XDvpxV8WUfWl",
        "outputId": "893de7a3-4eaf-45e7-fc92-4cc42feb9118"
      },
      "source": [
        "!conda install -c anaconda seaborn -y"
      ],
      "execution_count": 28,
      "outputs": [
        {
          "output_type": "stream",
          "text": [
            "Solving environment: - \b\b\\ \b\b| \b\b/ \b\b- \b\b\\ \b\b| \b\b/ \b\b- \b\b\\ \b\b| \b\b/ \b\b- \b\b\\ \b\b| \b\b/ \b\b- \b\b\\ \b\b| \b\b/ \b\b- \b\b\\ \b\b| \b\b/ \b\b- \b\b\\ \b\b| \b\b/ \b\b- \b\b\\ \b\b| \b\b/ \b\b- \b\b\\ \b\b| \b\b/ \b\b- \b\b\\ \b\b| \b\b/ \b\b- \b\b\\ \b\b| \b\b/ \b\b- \b\b\\ \b\b| \b\b/ \b\b- \b\b\\ \b\b| \b\b/ \b\b- \b\b\\ \b\b| \b\b/ \b\b- \b\b\\ \b\b| \b\b/ \b\b- \b\b\\ \b\b| \b\b/ \b\b- \b\b\\ \b\b| \b\b/ \b\b- \b\b\\ \b\b| \b\b/ \b\b- \b\b\\ \b\b| \b\b/ \b\b- \b\b\\ \b\b| \b\b/ \b\b- \b\b\\ \b\b| \b\b/ \b\b- \b\b\\ \b\b| \b\b/ \b\b- \b\b\\ \b\b| \b\b/ \b\b- \b\b\\ \b\b| \b\b/ \b\b- \b\b\\ \b\b| \b\b/ \b\b- \b\b\\ \b\b| \b\b/ \b\b- \b\b\\ \b\b| \b\b/ \b\b- \b\b\\ \b\b| \b\b/ \b\b- \b\b\\ \b\b| \b\b/ \b\b- \b\b\\ \b\b| \b\b/ \b\b- \b\b\\ \b\b| \b\b/ \b\b- \b\b\\ \b\b| \b\b/ \b\b- \b\b\\ \b\b| \b\b/ \b\b- \b\b\\ \b\b| \b\b/ \b\b- \b\b\\ \b\b| \b\b/ \b\b- \b\b\\ \b\b| \b\b/ \b\b- \b\b\\ \b\b| \b\b/ \b\b- \b\b\\ \b\b| \b\b/ \b\b- \b\b\\ \b\b| \b\b/ \b\b- \b\b\\ \b\b| \b\b/ \b\b- \b\b\\ \b\b| \b\b/ \b\b- \b\b\\ \b\b| \b\b/ \b\b- \b\b\\ \b\b| \b\b/ \b\b- \b\b\\ \b\b| \b\b/ \b\b- \b\b\\ \b\b| \b\b/ \b\b- \b\b\\ \b\b| \b\b/ \b\b- \b\b\\ \b\b| \b\b/ \b\b- \b\b\\ \b\b| \b\b/ \b\b- \b\b\\ \b\b| \b\b/ \b\b- \b\b\\ \b\b| \b\b/ \b\b- \b\b\\ \b\b| \b\bdone\n",
            "\n",
            "\n",
            "==> WARNING: A newer version of conda exists. <==\n",
            "  current version: 4.5.4\n",
            "  latest version: 4.9.2\n",
            "\n",
            "Please update conda by running\n",
            "\n",
            "    $ conda update -n base conda\n",
            "\n",
            "\n",
            "\n",
            "## Package Plan ##\n",
            "\n",
            "  environment location: /usr/local\n",
            "\n",
            "  added / updated specs: \n",
            "    - seaborn\n",
            "\n",
            "\n",
            "The following packages will be downloaded:\n",
            "\n",
            "    package                    |            build\n",
            "    ---------------------------|-----------------\n",
            "    mkl_fft-1.2.0              |   py36h23d657b_0         164 KB  anaconda\n",
            "    jpeg-9b                    |       habf39ab_1         247 KB  anaconda\n",
            "    matplotlib-3.3.1           |                0          24 KB  anaconda\n",
            "    pyparsing-2.4.7            |             py_0          64 KB  anaconda\n",
            "    cycler-0.10.0              |           py36_0          13 KB  anaconda\n",
            "    numpy-base-1.19.1          |   py36hfa32c7d_0         5.2 MB  anaconda\n",
            "    olefile-0.46               |             py_0          33 KB  anaconda\n",
            "    pcre-8.44                  |       he6710b0_0         269 KB  anaconda\n",
            "    mkl-2019.4                 |              243       204.1 MB  anaconda\n",
            "    expat-2.2.10               |       he6710b0_2         192 KB  anaconda\n",
            "    fontconfig-2.13.0          |       h9420a91_0         291 KB  anaconda\n",
            "    pytz-2020.1                |             py_0         239 KB  anaconda\n",
            "    scipy-1.5.2                |   py36h0b6359f_0        18.5 MB  anaconda\n",
            "    pyqt-5.9.2                 |   py36h22d08a2_1         5.6 MB  anaconda\n",
            "    matplotlib-base-3.3.1      |   py36h817c723_0         6.7 MB  anaconda\n",
            "    openssl-1.1.1h             |       h7b6447c_0         3.8 MB  anaconda\n",
            "    intel-openmp-2020.2        |              254         947 KB  anaconda\n",
            "    seaborn-0.11.0             |             py_0         216 KB  anaconda\n",
            "    lcms2-2.11                 |       h396b838_0         419 KB  anaconda\n",
            "    gstreamer-1.14.0           |       hb453b48_1         3.8 MB  anaconda\n",
            "    mkl-service-2.3.0          |   py36he904b0f_0         208 KB  anaconda\n",
            "    gst-plugins-base-1.14.0    |       hbbd80ab_1         6.3 MB  anaconda\n",
            "    dbus-1.13.18               |       hb2f20db_0         586 KB  anaconda\n",
            "    glib-2.56.2                |       hd408876_0         5.0 MB  anaconda\n",
            "    libpng-1.6.37              |       hbc83047_0         364 KB  anaconda\n",
            "    libtiff-4.1.0              |       h2733197_1         607 KB  anaconda\n",
            "    sip-4.19.24                |   py36he6710b0_0         297 KB  anaconda\n",
            "    kiwisolver-1.2.0           |   py36hfd86e86_0          91 KB  anaconda\n",
            "    libxml2-2.9.10             |       hb55368b_3         1.3 MB  anaconda\n",
            "    freetype-2.10.4            |       h5ab3b9f_0         901 KB  anaconda\n",
            "    lz4-c-1.9.2                |       heb0550a_3         203 KB  anaconda\n",
            "    python-dateutil-2.8.1      |             py_0         224 KB  anaconda\n",
            "    libuuid-1.0.3              |       h1bed415_2          16 KB  anaconda\n",
            "    numpy-1.19.1               |   py36hbc911f0_0          20 KB  anaconda\n",
            "    blas-1.0                   |              mkl           6 KB  anaconda\n",
            "    mkl_random-1.1.0           |   py36hd6b4f25_0         369 KB  anaconda\n",
            "    pillow-8.0.0               |   py36h9a89aac_0         675 KB  anaconda\n",
            "    ca-certificates-2020.10.14 |                0         128 KB  anaconda\n",
            "    tornado-6.0.4              |   py36h7b6447c_1         650 KB  anaconda\n",
            "    icu-58.2                   |       he6710b0_3        22.7 MB  anaconda\n",
            "    certifi-2020.6.20          |           py36_0         160 KB  anaconda\n",
            "    zstd-1.4.4                 |       h0b5b093_3        1006 KB  anaconda\n",
            "    qt-5.9.7                   |       h5867ecd_1        85.9 MB  anaconda\n",
            "    libgfortran-ng-7.3.0       |       hdf63c60_0         1.3 MB  anaconda\n",
            "    pandas-1.1.3               |   py36he6710b0_0        10.5 MB  anaconda\n",
            "    libxcb-1.14                |       h7b6447c_0         610 KB  anaconda\n",
            "    ------------------------------------------------------------\n",
            "                                           Total:       390.7 MB\n",
            "\n",
            "The following NEW packages will be INSTALLED:\n",
            "\n",
            "    blas:             1.0-mkl                  anaconda\n",
            "    cycler:           0.10.0-py36_0            anaconda\n",
            "    dbus:             1.13.18-hb2f20db_0       anaconda\n",
            "    expat:            2.2.10-he6710b0_2        anaconda\n",
            "    fontconfig:       2.13.0-h9420a91_0        anaconda\n",
            "    freetype:         2.10.4-h5ab3b9f_0        anaconda\n",
            "    glib:             2.56.2-hd408876_0        anaconda\n",
            "    gst-plugins-base: 1.14.0-hbbd80ab_1        anaconda\n",
            "    gstreamer:        1.14.0-hb453b48_1        anaconda\n",
            "    icu:              58.2-he6710b0_3          anaconda\n",
            "    intel-openmp:     2020.2-254               anaconda\n",
            "    jpeg:             9b-habf39ab_1            anaconda\n",
            "    kiwisolver:       1.2.0-py36hfd86e86_0     anaconda\n",
            "    lcms2:            2.11-h396b838_0          anaconda\n",
            "    libgfortran-ng:   7.3.0-hdf63c60_0         anaconda\n",
            "    libpng:           1.6.37-hbc83047_0        anaconda\n",
            "    libtiff:          4.1.0-h2733197_1         anaconda\n",
            "    libuuid:          1.0.3-h1bed415_2         anaconda\n",
            "    libxcb:           1.14-h7b6447c_0          anaconda\n",
            "    libxml2:          2.9.10-hb55368b_3        anaconda\n",
            "    lz4-c:            1.9.2-heb0550a_3         anaconda\n",
            "    matplotlib:       3.3.1-0                  anaconda\n",
            "    matplotlib-base:  3.3.1-py36h817c723_0     anaconda\n",
            "    mkl:              2019.4-243               anaconda\n",
            "    mkl-service:      2.3.0-py36he904b0f_0     anaconda\n",
            "    mkl_fft:          1.2.0-py36h23d657b_0     anaconda\n",
            "    mkl_random:       1.1.0-py36hd6b4f25_0     anaconda\n",
            "    numpy:            1.19.1-py36hbc911f0_0    anaconda\n",
            "    numpy-base:       1.19.1-py36hfa32c7d_0    anaconda\n",
            "    olefile:          0.46-py_0                anaconda\n",
            "    pandas:           1.1.3-py36he6710b0_0     anaconda\n",
            "    pcre:             8.44-he6710b0_0          anaconda\n",
            "    pillow:           8.0.0-py36h9a89aac_0     anaconda\n",
            "    pyparsing:        2.4.7-py_0               anaconda\n",
            "    pyqt:             5.9.2-py36h22d08a2_1     anaconda\n",
            "    python-dateutil:  2.8.1-py_0               anaconda\n",
            "    pytz:             2020.1-py_0              anaconda\n",
            "    qt:               5.9.7-h5867ecd_1         anaconda\n",
            "    scipy:            1.5.2-py36h0b6359f_0     anaconda\n",
            "    seaborn:          0.11.0-py_0              anaconda\n",
            "    sip:              4.19.24-py36he6710b0_0   anaconda\n",
            "    tornado:          6.0.4-py36h7b6447c_1     anaconda\n",
            "    zstd:             1.4.4-h0b5b093_3         anaconda\n",
            "\n",
            "The following packages will be DOWNGRADED:\n",
            "\n",
            "    ca-certificates:  2020.12.8-h06a4308_0              --> 2020.10.14-0      anaconda\n",
            "    certifi:          2020.12.5-py36h06a4308_0          --> 2020.6.20-py36_0  anaconda\n",
            "    openssl:          1.1.1i-h27cfd23_0                 --> 1.1.1h-h7b6447c_0 anaconda\n",
            "\n",
            "\n",
            "Downloading and Extracting Packages\n",
            "mkl_fft-1.2.0        |  164 KB | : 100% 1.0/1 [00:00<00:00, 12.66it/s]\n",
            "jpeg-9b              |  247 KB | : 100% 1.0/1 [00:00<00:00,  9.33it/s]\n",
            "matplotlib-3.3.1     |   24 KB | : 100% 1.0/1 [00:00<00:00, 14.02it/s]\n",
            "pyparsing-2.4.7      |   64 KB | : 100% 1.0/1 [00:00<00:00, 10.37it/s]\n",
            "cycler-0.10.0        |   13 KB | : 100% 1.0/1 [00:00<00:00, 17.35it/s]\n",
            "numpy-base-1.19.1    |  5.2 MB | : 100% 1.0/1 [00:01<00:00,  1.39s/it]               \n",
            "olefile-0.46         |   33 KB | : 100% 1.0/1 [00:00<00:00, 25.88it/s]\n",
            "pcre-8.44            |  269 KB | : 100% 1.0/1 [00:00<00:00, 10.85it/s]\n",
            "mkl-2019.4           | 204.1 MB | : 100% 1.0/1 [00:40<00:00, 40.59s/it]                \n",
            "expat-2.2.10         |  192 KB | : 100% 1.0/1 [00:00<00:00, 12.75it/s]\n",
            "fontconfig-2.13.0    |  291 KB | : 100% 1.0/1 [00:00<00:00,  9.04it/s]              \n",
            "pytz-2020.1          |  239 KB | : 100% 1.0/1 [00:00<00:00,  3.38it/s]               \n",
            "scipy-1.5.2          | 18.5 MB | : 100% 1.0/1 [00:03<00:00,  3.94s/it]               \n",
            "pyqt-5.9.2           |  5.6 MB | : 100% 1.0/1 [00:01<00:00,  1.49s/it]               \n",
            "matplotlib-base-3.3. |  6.7 MB | : 100% 1.0/1 [00:01<00:00,  1.61s/it]             \n",
            "openssl-1.1.1h       |  3.8 MB | : 100% 1.0/1 [00:00<00:00,  1.28it/s]               \n",
            "intel-openmp-2020.2  |  947 KB | : 100% 1.0/1 [00:00<00:00,  4.66it/s]              \n",
            "seaborn-0.11.0       |  216 KB | : 100% 1.0/1 [00:00<00:00,  8.45it/s]               \n",
            "lcms2-2.11           |  419 KB | : 100% 1.0/1 [00:00<00:00,  7.78it/s]               \n",
            "gstreamer-1.14.0     |  3.8 MB | : 100% 1.0/1 [00:00<00:00,  1.34it/s]               \n",
            "mkl-service-2.3.0    |  208 KB | : 100% 1.0/1 [00:00<00:00, 11.69it/s]\n",
            "gst-plugins-base-1.1 |  6.3 MB | : 100% 1.0/1 [00:01<00:00,  1.14s/it]               \n",
            "dbus-1.13.18         |  586 KB | : 100% 1.0/1 [00:00<00:00,  6.31it/s]               \n",
            "glib-2.56.2          |  5.0 MB | : 100% 1.0/1 [00:01<00:00,  1.70s/it]               \n",
            "libpng-1.6.37        |  364 KB | : 100% 1.0/1 [00:00<00:00,  5.96it/s]               \n",
            "libtiff-4.1.0        |  607 KB | : 100% 1.0/1 [00:00<00:00,  5.33it/s]               \n",
            "sip-4.19.24          |  297 KB | : 100% 1.0/1 [00:00<00:00, 10.66it/s]\n",
            "kiwisolver-1.2.0     |   91 KB | : 100% 1.0/1 [00:00<00:00, 14.69it/s]\n",
            "libxml2-2.9.10       |  1.3 MB | : 100% 1.0/1 [00:00<00:00,  2.20it/s]               \n",
            "freetype-2.10.4      |  901 KB | : 100% 1.0/1 [00:00<00:00,  4.83it/s]               \n",
            "lz4-c-1.9.2          |  203 KB | : 100% 1.0/1 [00:00<00:00, 12.17it/s]\n",
            "python-dateutil-2.8. |  224 KB | : 100% 1.0/1 [00:00<00:00, 14.26it/s]\n",
            "libuuid-1.0.3        |   16 KB | : 100% 1.0/1 [00:00<00:00, 28.57it/s]\n",
            "numpy-1.19.1         |   20 KB | : 100% 1.0/1 [00:00<00:00, 29.97it/s]\n",
            "blas-1.0             |    6 KB | : 100% 1.0/1 [00:00<00:00, 29.51it/s]\n",
            "mkl_random-1.1.0     |  369 KB | : 100% 1.0/1 [00:00<00:00,  8.85it/s]\n",
            "pillow-8.0.0         |  675 KB | : 100% 1.0/1 [00:00<00:00,  4.33it/s]               \n",
            "ca-certificates-2020 |  128 KB | : 100% 1.0/1 [00:00<00:00, 19.50it/s]\n",
            "tornado-6.0.4        |  650 KB | : 100% 1.0/1 [00:00<00:00,  3.86it/s]               \n",
            "icu-58.2             | 22.7 MB | : 100% 1.0/1 [00:04<00:00,  4.10s/it]               \n",
            "certifi-2020.6.20    |  160 KB | : 100% 1.0/1 [00:00<00:00, 16.29it/s]\n",
            "zstd-1.4.4           | 1006 KB | : 100% 1.0/1 [00:00<00:00,  4.12it/s]              \n",
            "qt-5.9.7             | 85.9 MB | : 100% 1.0/1 [00:18<00:00, 18.51s/it]               \n",
            "libgfortran-ng-7.3.0 |  1.3 MB | : 100% 1.0/1 [00:00<00:00,  3.20it/s]               \n",
            "pandas-1.1.3         | 10.5 MB | : 100% 1.0/1 [00:02<00:00,  2.90s/it]               \n",
            "libxcb-1.14          |  610 KB | : 100% 1.0/1 [00:00<00:00,  3.87it/s]               \n",
            "Preparing transaction: - \b\b\\ \b\b| \b\b/ \b\b- \b\b\\ \b\b| \b\b/ \b\bdone\n",
            "Verifying transaction: \\ \b\b| \b\b/ \b\b- \b\b\\ \b\b| \b\b/ \b\b- \b\b\\ \b\b| \b\b/ \b\b- \b\b\\ \b\b| \b\b/ \b\b- \b\b\\ \b\b| \b\b/ \b\b- \b\b\\ \b\b| \b\b/ \b\b- \b\b\\ \b\b| \b\b/ \b\b- \b\b\\ \b\b| \b\b/ \b\b- \b\b\\ \b\b| \b\b/ \b\b- \b\b\\ \b\b| \b\b/ \b\b- \b\b\\ \b\b| \b\b/ \b\b- \b\b\\ \b\b| \b\b/ \b\b- \b\b\\ \b\b| \b\b/ \b\b- \b\b\\ \b\b| \b\b/ \b\b- \b\b\\ \b\b| \b\b/ \b\b- \b\b\\ \b\b| \b\b/ \b\b- \b\b\\ \b\b| \b\b/ \b\b- \b\b\\ \b\b| \b\b/ \b\b- \b\b\\ \b\b| \b\b/ \b\b- \b\b\\ \b\b| \b\b/ \b\b- \b\b\\ \b\b| \b\b/ \b\b- \b\bdone\n",
            "Executing transaction: | \b\b/ \b\b- \b\b\\ \b\b| \b\b/ \b\b- \b\b\\ \b\b| \b\b/ \b\b- \b\b\\ \b\b| \b\b/ \b\b- \b\b\\ \b\b| \b\b/ \b\b- \b\b\\ \b\b| \b\b/ \b\b- \b\b\\ \b\b| \b\b/ \b\b- \b\b\\ \b\b| \b\b/ \b\b- \b\b\\ \b\b| \b\b/ \b\b- \b\b\\ \b\b| \b\b/ \b\b- \b\b\\ \b\b| \b\b/ \b\b- \b\b\\ \b\b| \b\b/ \b\b- \b\b\\ \b\b| \b\b/ \b\b- \b\b\\ \b\b| \b\b/ \b\b- \b\b\\ \b\b| \b\b/ \b\b- \b\b\\ \b\b| \b\b/ \b\b- \b\b\\ \b\b| \b\b/ \b\b- \b\b\\ \b\b| \b\b/ \b\b- \b\b\\ \b\b| \b\b/ \b\b- \b\b\\ \b\b| \b\b/ \b\b- \b\b\\ \b\b| \b\b/ \b\b- \b\b\\ \b\b| \b\b/ \b\b- \b\b\\ \b\b| \b\b/ \b\b- \b\b\\ \b\b| \b\b/ \b\b- \b\b\\ \b\b| \b\b/ \b\b- \b\b\\ \b\b| \b\b/ \b\b- \b\b\\ \b\b| \b\b/ \b\b- \b\b\\ \b\b| \b\b/ \b\b- \b\b\\ \b\b| \b\b/ \b\b- \b\b\\ \b\b| \b\b/ \b\b- \b\b\\ \b\b| \b\b/ \b\b- \b\b\\ \b\b| \b\b/ \b\b- \b\b\\ \b\b| \b\b/ \b\b- \b\b\\ \b\b| \b\b/ \b\b- \b\b\\ \b\b| \b\b/ \b\b- \b\b\\ \b\b| \b\b/ \b\b- \b\b\\ \b\b| \b\b/ \b\b- \b\b\\ \b\b| \b\b/ \b\b- \b\b\\ \b\b| \b\b/ \b\b- \b\b\\ \b\b| \b\b/ \b\b- \b\b\\ \b\b| \b\b/ \b\b- \b\b\\ \b\b| \b\b/ \b\b- \b\b\\ \b\b| \b\b/ \b\b- \b\b\\ \b\b| \b\b/ \b\b- \b\b\\ \b\b| \b\b/ \b\b- \b\b\\ \b\b| \b\b/ \b\b- \b\b\\ \b\b| \b\b/ \b\b- \b\b\\ \b\b| \b\b/ \b\b- \b\b\\ \b\b| \b\b/ \b\b- \b\b\\ \b\b| \b\b/ \b\b- \b\b\\ \b\b| \b\b/ \b\b- \b\b\\ \b\b| \b\b/ \b\b- \b\b\\ \b\b| \b\b/ \b\b- \b\b\\ \b\b| \b\b/ \b\b- \b\b\\ \b\b| \b\b/ \b\b- \b\b\\ \b\b| \b\b/ \b\b- \b\b\\ \b\b| \b\b/ \b\b- \b\b\\ \b\b| \b\b/ \b\b- \b\b\\ \b\b| \b\b/ \b\b- \b\b\\ \b\b| \b\b/ \b\b- \b\b\\ \b\b| \b\b/ \b\b- \b\b\\ \b\b| \b\b/ \b\b- \b\b\\ \b\b| \b\b/ \b\b- \b\b\\ \b\b| \b\b/ \b\b- \b\b\\ \b\b| \b\b/ \b\b- \b\b\\ \b\b| \b\b/ \b\b- \b\b\\ \b\b| \b\b/ \b\b- \b\b\\ \b\b| \b\b/ \b\b- \b\b\\ \b\b| \b\b/ \b\b- \b\b\\ \b\b| \b\b/ \b\b- \b\b\\ \b\b| \b\b/ \b\b- \b\b\\ \b\b| \b\b/ \b\b- \b\b\\ \b\b| \b\b/ \b\b- \b\b\\ \b\b| \b\b/ \b\b- \b\b\\ \b\b| \b\b/ \b\b- \b\b\\ \b\b| \b\b/ \b\b- \b\b\\ \b\b| \b\b/ \b\b- \b\b\\ \b\b| \b\b/ \b\b- \b\b\\ \b\b| \b\b/ \b\b- \b\b\\ \b\b| \b\b/ \b\b- \b\b\\ \b\b| \b\b/ \b\b- \b\b\\ \b\b| \b\b/ \b\b- \b\b\\ \b\b| \b\b/ \b\b- \b\b\\ \b\b| \b\b/ \b\b- \b\b\\ \b\b| \b\b/ \b\b- \b\b\\ \b\bdone\n"
          ],
          "name": "stdout"
        }
      ]
    },
    {
      "cell_type": "code",
      "metadata": {
        "id": "eMq5IUpEQL_N"
      },
      "source": [
        "import seaborn as sns"
      ],
      "execution_count": 29,
      "outputs": []
    },
    {
      "cell_type": "code",
      "metadata": {
        "colab": {
          "base_uri": "https://localhost:8080/",
          "height": 225
        },
        "id": "XdZHami8Rqwk",
        "outputId": "befb1864-613c-4312-b21b-ec6c0899c175"
      },
      "source": [
        "bins = np.linspace(df.Principal.min(), df.Principal.max(), 10)\r\n",
        "g = sns.FacetGrid(df, col=\"Gender\", hue=\"loan_status\", palette=\"Set1\", col_wrap=2)\r\n",
        "g.map(plt.hist, 'Principal', bins=bins, ec=\"k\")\r\n",
        "\r\n",
        "g.axes[-1].legend()\r\n",
        "plt.show()"
      ],
      "execution_count": 30,
      "outputs": [
        {
          "output_type": "display_data",
          "data": {
            "image/png": "[encoded data removed]",
            "text/plain": [
              "<Figure size 432x216 with 2 Axes>"
            ]
          },
          "metadata": {
            "tags": [],
            "needs_background": "light"
          }
        }
      ]
    },
    {
      "cell_type": "code",
      "metadata": {
        "colab": {
          "base_uri": "https://localhost:8080/",
          "height": 225
        },
        "id": "iwsuH33yR1md",
        "outputId": "1ee5e2b3-6203-4bb9-9e74-23d22ec25c2f"
      },
      "source": [
        "bins = np.linspace(df.age.min(), df.age.max(), 10)\r\n",
        "g = sns.FacetGrid(df, col=\"Gender\", hue=\"loan_status\", palette=\"Set1\", col_wrap=2)\r\n",
        "g.map(plt.hist, 'age', bins=bins, ec=\"k\")\r\n",
        "\r\n",
        "g.axes[-1].legend()\r\n",
        "plt.show()"
      ],
      "execution_count": 31,
      "outputs": [
        {
          "output_type": "display_data",
          "data": {
            "image/png": "[encoded data removed]",
            "text/plain": [
              "<Figure size 432x216 with 2 Axes>"
            ]
          },
          "metadata": {
            "tags": [],
            "needs_background": "light"
          }
        }
      ]
    },
    {
      "cell_type": "markdown",
      "metadata": {
        "id": "M53VGDYbSUG1"
      },
      "source": [
        "# Pre-processing:  Feature selection/extraction"
      ]
    },
    {
      "cell_type": "markdown",
      "metadata": {
        "id": "m--vsU8KSdQA"
      },
      "source": [
        "Day of the week people get the loan:"
      ]
    },
    {
      "cell_type": "code",
      "metadata": {
        "colab": {
          "base_uri": "https://localhost:8080/",
          "height": 225
        },
        "id": "4yWZg7naSfzP",
        "outputId": "6f9b3385-50e6-427b-a6fb-6e3cf20551d3"
      },
      "source": [
        "df['dayofweek'] = df['effective_date'].dt.dayofweek\r\n",
        "bins = np.linspace(df.dayofweek.min(), df.dayofweek.max(), 10)\r\n",
        "g = sns.FacetGrid(df, col=\"Gender\", hue=\"loan_status\", palette=\"Set1\", col_wrap=2)\r\n",
        "g.map(plt.hist, 'dayofweek', bins=bins, ec=\"k\")\r\n",
        "g.axes[-1].legend()\r\n",
        "plt.show()"
      ],
      "execution_count": 32,
      "outputs": [
        {
          "output_type": "display_data",
          "data": {
            "image/png": "[encoded data removed]",
            "text/plain": [
              "<Figure size 432x216 with 2 Axes>"
            ]
          },
          "metadata": {
            "tags": [],
            "needs_background": "light"
          }
        }
      ]
    },
    {
      "cell_type": "markdown",
      "metadata": {
        "id": "3_COvCpiVXD0"
      },
      "source": [
        "We see that people who get the loan at the end of the week dont pay it off, so lets use Feature binarization to set a threshold values less then day 4 "
      ]
    },
    {
      "cell_type": "code",
      "metadata": {
        "colab": {
          "base_uri": "https://localhost:8080/",
          "height": 204
        },
        "id": "uPWdJscsVYFX",
        "outputId": "5dafaee3-d7dc-4161-b1d4-8adec6b7e8a2"
      },
      "source": [
        "df['weekend'] = df['dayofweek'].apply(lambda x: 1 if (x>3)  else 0)\r\n",
        "df.head()"
      ],
      "execution_count": 33,
      "outputs": [
        {
          "output_type": "execute_result",
          "data": {
            "text/html": [
              "<div>\n",
              "<style scoped>\n",
              "    .dataframe tbody tr th:only-of-type {\n",
              "        vertical-align: middle;\n",
              "    }\n",
              "\n",
              "    .dataframe tbody tr th {\n",
              "        vertical-align: top;\n",
              "    }\n",
              "\n",
              "    .dataframe thead th {\n",
              "        text-align: right;\n",
              "    }\n",
              "</style>\n",
              "<table border=\"1\" class=\"dataframe\">\n",
              "  <thead>\n",
              "    <tr style=\"text-align: right;\">\n",
              "      <th></th>\n",
              "      <th>Unnamed: 0</th>\n",
              "      <th>Unnamed: 0.1</th>\n",
              "      <th>loan_status</th>\n",
              "      <th>Principal</th>\n",
              "      <th>terms</th>\n",
              "      <th>effective_date</th>\n",
              "      <th>due_date</th>\n",
              "      <th>age</th>\n",
              "      <th>education</th>\n",
              "      <th>Gender</th>\n",
              "      <th>dayofweek</th>\n",
              "      <th>weekend</th>\n",
              "    </tr>\n",
              "  </thead>\n",
              "  <tbody>\n",
              "    <tr>\n",
              "      <th>0</th>\n",
              "      <td>0</td>\n",
              "      <td>0</td>\n",
              "      <td>PAIDOFF</td>\n",
              "      <td>1000</td>\n",
              "      <td>30</td>\n",
              "      <td>2016-09-08</td>\n",
              "      <td>2016-10-07</td>\n",
              "      <td>45</td>\n",
              "      <td>High School or Below</td>\n",
              "      <td>male</td>\n",
              "      <td>3</td>\n",
              "      <td>0</td>\n",
              "    </tr>\n",
              "    <tr>\n",
              "      <th>1</th>\n",
              "      <td>2</td>\n",
              "      <td>2</td>\n",
              "      <td>PAIDOFF</td>\n",
              "      <td>1000</td>\n",
              "      <td>30</td>\n",
              "      <td>2016-09-08</td>\n",
              "      <td>2016-10-07</td>\n",
              "      <td>33</td>\n",
              "      <td>Bechalor</td>\n",
              "      <td>female</td>\n",
              "      <td>3</td>\n",
              "      <td>0</td>\n",
              "    </tr>\n",
              "    <tr>\n",
              "      <th>2</th>\n",
              "      <td>3</td>\n",
              "      <td>3</td>\n",
              "      <td>PAIDOFF</td>\n",
              "      <td>1000</td>\n",
              "      <td>15</td>\n",
              "      <td>2016-09-08</td>\n",
              "      <td>2016-09-22</td>\n",
              "      <td>27</td>\n",
              "      <td>college</td>\n",
              "      <td>male</td>\n",
              "      <td>3</td>\n",
              "      <td>0</td>\n",
              "    </tr>\n",
              "    <tr>\n",
              "      <th>3</th>\n",
              "      <td>4</td>\n",
              "      <td>4</td>\n",
              "      <td>PAIDOFF</td>\n",
              "      <td>1000</td>\n",
              "      <td>30</td>\n",
              "      <td>2016-09-09</td>\n",
              "      <td>2016-10-08</td>\n",
              "      <td>28</td>\n",
              "      <td>college</td>\n",
              "      <td>female</td>\n",
              "      <td>4</td>\n",
              "      <td>1</td>\n",
              "    </tr>\n",
              "    <tr>\n",
              "      <th>4</th>\n",
              "      <td>6</td>\n",
              "      <td>6</td>\n",
              "      <td>PAIDOFF</td>\n",
              "      <td>1000</td>\n",
              "      <td>30</td>\n",
              "      <td>2016-09-09</td>\n",
              "      <td>2016-10-08</td>\n",
              "      <td>29</td>\n",
              "      <td>college</td>\n",
              "      <td>male</td>\n",
              "      <td>4</td>\n",
              "      <td>1</td>\n",
              "    </tr>\n",
              "  </tbody>\n",
              "</table>\n",
              "</div>"
            ],
            "text/plain": [
              "   Unnamed: 0  Unnamed: 0.1 loan_status  ...  Gender  dayofweek weekend\n",
              "0           0             0     PAIDOFF  ...    male          3       0\n",
              "1           2             2     PAIDOFF  ...  female          3       0\n",
              "2           3             3     PAIDOFF  ...    male          3       0\n",
              "3           4             4     PAIDOFF  ...  female          4       1\n",
              "4           6             6     PAIDOFF  ...    male          4       1\n",
              "\n",
              "[5 rows x 12 columns]"
            ]
          },
          "metadata": {
            "tags": []
          },
          "execution_count": 33
        }
      ]
    },
    {
      "cell_type": "markdown",
      "metadata": {
        "id": "SVLl-K9zizLv"
      },
      "source": [
        "## **Convert Categorical features to numerical values** \r\n"
      ]
    },
    {
      "cell_type": "markdown",
      "metadata": {
        "id": "ze0JPHwrkY-n"
      },
      "source": [
        "Gender:\r\n"
      ]
    },
    {
      "cell_type": "code",
      "metadata": {
        "colab": {
          "base_uri": "https://localhost:8080/"
        },
        "id": "Qx3syJWFVbZ1",
        "outputId": "d79681e5-202a-4e22-ce33-2d87207b53fb"
      },
      "source": [
        "df.groupby(['Gender'])['loan_status'].value_counts(normalize=True)"
      ],
      "execution_count": 34,
      "outputs": [
        {
          "output_type": "execute_result",
          "data": {
            "text/plain": [
              "Gender  loan_status\n",
              "female  PAIDOFF        0.865385\n",
              "        COLLECTION     0.134615\n",
              "male    PAIDOFF        0.731293\n",
              "        COLLECTION     0.268707\n",
              "Name: loan_status, dtype: float64"
            ]
          },
          "metadata": {
            "tags": []
          },
          "execution_count": 34
        }
      ]
    },
    {
      "cell_type": "markdown",
      "metadata": {
        "id": "yuL6GPBtkkjg"
      },
      "source": [
        "86 % of female pay there loans while only 73 % of males pay there loan.\r\n",
        "\r\n",
        "Convert male to 0 and female to 1:\r\n",
        "\r\n"
      ]
    },
    {
      "cell_type": "code",
      "metadata": {
        "colab": {
          "base_uri": "https://localhost:8080/",
          "height": 204
        },
        "id": "5v9kYhuSkeIM",
        "outputId": "0e86d960-65bf-422d-9726-d50bd1a6b30e"
      },
      "source": [
        "df['Gender'].replace(to_replace=['male','female'], value=[0,1],inplace=True)\r\n",
        "df.head()"
      ],
      "execution_count": 35,
      "outputs": [
        {
          "output_type": "execute_result",
          "data": {
            "text/html": [
              "<div>\n",
              "<style scoped>\n",
              "    .dataframe tbody tr th:only-of-type {\n",
              "        vertical-align: middle;\n",
              "    }\n",
              "\n",
              "    .dataframe tbody tr th {\n",
              "        vertical-align: top;\n",
              "    }\n",
              "\n",
              "    .dataframe thead th {\n",
              "        text-align: right;\n",
              "    }\n",
              "</style>\n",
              "<table border=\"1\" class=\"dataframe\">\n",
              "  <thead>\n",
              "    <tr style=\"text-align: right;\">\n",
              "      <th></th>\n",
              "      <th>Unnamed: 0</th>\n",
              "      <th>Unnamed: 0.1</th>\n",
              "      <th>loan_status</th>\n",
              "      <th>Principal</th>\n",
              "      <th>terms</th>\n",
              "      <th>effective_date</th>\n",
              "      <th>due_date</th>\n",
              "      <th>age</th>\n",
              "      <th>education</th>\n",
              "      <th>Gender</th>\n",
              "      <th>dayofweek</th>\n",
              "      <th>weekend</th>\n",
              "    </tr>\n",
              "  </thead>\n",
              "  <tbody>\n",
              "    <tr>\n",
              "      <th>0</th>\n",
              "      <td>0</td>\n",
              "      <td>0</td>\n",
              "      <td>PAIDOFF</td>\n",
              "      <td>1000</td>\n",
              "      <td>30</td>\n",
              "      <td>2016-09-08</td>\n",
              "      <td>2016-10-07</td>\n",
              "      <td>45</td>\n",
              "      <td>High School or Below</td>\n",
              "      <td>0</td>\n",
              "      <td>3</td>\n",
              "      <td>0</td>\n",
              "    </tr>\n",
              "    <tr>\n",
              "      <th>1</th>\n",
              "      <td>2</td>\n",
              "      <td>2</td>\n",
              "      <td>PAIDOFF</td>\n",
              "      <td>1000</td>\n",
              "      <td>30</td>\n",
              "      <td>2016-09-08</td>\n",
              "      <td>2016-10-07</td>\n",
              "      <td>33</td>\n",
              "      <td>Bechalor</td>\n",
              "      <td>1</td>\n",
              "      <td>3</td>\n",
              "      <td>0</td>\n",
              "    </tr>\n",
              "    <tr>\n",
              "      <th>2</th>\n",
              "      <td>3</td>\n",
              "      <td>3</td>\n",
              "      <td>PAIDOFF</td>\n",
              "      <td>1000</td>\n",
              "      <td>15</td>\n",
              "      <td>2016-09-08</td>\n",
              "      <td>2016-09-22</td>\n",
              "      <td>27</td>\n",
              "      <td>college</td>\n",
              "      <td>0</td>\n",
              "      <td>3</td>\n",
              "      <td>0</td>\n",
              "    </tr>\n",
              "    <tr>\n",
              "      <th>3</th>\n",
              "      <td>4</td>\n",
              "      <td>4</td>\n",
              "      <td>PAIDOFF</td>\n",
              "      <td>1000</td>\n",
              "      <td>30</td>\n",
              "      <td>2016-09-09</td>\n",
              "      <td>2016-10-08</td>\n",
              "      <td>28</td>\n",
              "      <td>college</td>\n",
              "      <td>1</td>\n",
              "      <td>4</td>\n",
              "      <td>1</td>\n",
              "    </tr>\n",
              "    <tr>\n",
              "      <th>4</th>\n",
              "      <td>6</td>\n",
              "      <td>6</td>\n",
              "      <td>PAIDOFF</td>\n",
              "      <td>1000</td>\n",
              "      <td>30</td>\n",
              "      <td>2016-09-09</td>\n",
              "      <td>2016-10-08</td>\n",
              "      <td>29</td>\n",
              "      <td>college</td>\n",
              "      <td>0</td>\n",
              "      <td>4</td>\n",
              "      <td>1</td>\n",
              "    </tr>\n",
              "  </tbody>\n",
              "</table>\n",
              "</div>"
            ],
            "text/plain": [
              "   Unnamed: 0  Unnamed: 0.1 loan_status  ...  Gender  dayofweek weekend\n",
              "0           0             0     PAIDOFF  ...       0          3       0\n",
              "1           2             2     PAIDOFF  ...       1          3       0\n",
              "2           3             3     PAIDOFF  ...       0          3       0\n",
              "3           4             4     PAIDOFF  ...       1          4       1\n",
              "4           6             6     PAIDOFF  ...       0          4       1\n",
              "\n",
              "[5 rows x 12 columns]"
            ]
          },
          "metadata": {
            "tags": []
          },
          "execution_count": 35
        }
      ]
    },
    {
      "cell_type": "markdown",
      "metadata": {
        "id": "AziEI2tYlBh0"
      },
      "source": [
        "# One Hot Encoding\r\n",
        "\r\n",
        "#### Education"
      ]
    },
    {
      "cell_type": "code",
      "metadata": {
        "colab": {
          "base_uri": "https://localhost:8080/"
        },
        "id": "KzSdZNE_kyG1",
        "outputId": "5eac355d-33ae-487e-831c-4e61596bbd9f"
      },
      "source": [
        "df.groupby(['education'])['loan_status'].value_counts(normalize=True)"
      ],
      "execution_count": 36,
      "outputs": [
        {
          "output_type": "execute_result",
          "data": {
            "text/plain": [
              "education             loan_status\n",
              "Bechalor              PAIDOFF        0.750000\n",
              "                      COLLECTION     0.250000\n",
              "High School or Below  PAIDOFF        0.741722\n",
              "                      COLLECTION     0.258278\n",
              "Master or Above       COLLECTION     0.500000\n",
              "                      PAIDOFF        0.500000\n",
              "college               PAIDOFF        0.765101\n",
              "                      COLLECTION     0.234899\n",
              "Name: loan_status, dtype: float64"
            ]
          },
          "metadata": {
            "tags": []
          },
          "execution_count": 36
        }
      ]
    },
    {
      "cell_type": "markdown",
      "metadata": {
        "id": "4Tq5iszBlYhs"
      },
      "source": [
        "#### Feature before One Hot Encoding\r\n"
      ]
    },
    {
      "cell_type": "code",
      "metadata": {
        "colab": {
          "base_uri": "https://localhost:8080/",
          "height": 204
        },
        "id": "puu1wALdlU8p",
        "outputId": "040d87ca-3079-4650-c31c-5c993e0b1392"
      },
      "source": [
        "df[['Principal','terms','age','Gender','education']].head()"
      ],
      "execution_count": 37,
      "outputs": [
        {
          "output_type": "execute_result",
          "data": {
            "text/html": [
              "<div>\n",
              "<style scoped>\n",
              "    .dataframe tbody tr th:only-of-type {\n",
              "        vertical-align: middle;\n",
              "    }\n",
              "\n",
              "    .dataframe tbody tr th {\n",
              "        vertical-align: top;\n",
              "    }\n",
              "\n",
              "    .dataframe thead th {\n",
              "        text-align: right;\n",
              "    }\n",
              "</style>\n",
              "<table border=\"1\" class=\"dataframe\">\n",
              "  <thead>\n",
              "    <tr style=\"text-align: right;\">\n",
              "      <th></th>\n",
              "      <th>Principal</th>\n",
              "      <th>terms</th>\n",
              "      <th>age</th>\n",
              "      <th>Gender</th>\n",
              "      <th>education</th>\n",
              "    </tr>\n",
              "  </thead>\n",
              "  <tbody>\n",
              "    <tr>\n",
              "      <th>0</th>\n",
              "      <td>1000</td>\n",
              "      <td>30</td>\n",
              "      <td>45</td>\n",
              "      <td>0</td>\n",
              "      <td>High School or Below</td>\n",
              "    </tr>\n",
              "    <tr>\n",
              "      <th>1</th>\n",
              "      <td>1000</td>\n",
              "      <td>30</td>\n",
              "      <td>33</td>\n",
              "      <td>1</td>\n",
              "      <td>Bechalor</td>\n",
              "    </tr>\n",
              "    <tr>\n",
              "      <th>2</th>\n",
              "      <td>1000</td>\n",
              "      <td>15</td>\n",
              "      <td>27</td>\n",
              "      <td>0</td>\n",
              "      <td>college</td>\n",
              "    </tr>\n",
              "    <tr>\n",
              "      <th>3</th>\n",
              "      <td>1000</td>\n",
              "      <td>30</td>\n",
              "      <td>28</td>\n",
              "      <td>1</td>\n",
              "      <td>college</td>\n",
              "    </tr>\n",
              "    <tr>\n",
              "      <th>4</th>\n",
              "      <td>1000</td>\n",
              "      <td>30</td>\n",
              "      <td>29</td>\n",
              "      <td>0</td>\n",
              "      <td>college</td>\n",
              "    </tr>\n",
              "  </tbody>\n",
              "</table>\n",
              "</div>"
            ],
            "text/plain": [
              "   Principal  terms  age  Gender             education\n",
              "0       1000     30   45       0  High School or Below\n",
              "1       1000     30   33       1              Bechalor\n",
              "2       1000     15   27       0               college\n",
              "3       1000     30   28       1               college\n",
              "4       1000     30   29       0               college"
            ]
          },
          "metadata": {
            "tags": []
          },
          "execution_count": 37
        }
      ]
    },
    {
      "cell_type": "markdown",
      "metadata": {
        "id": "eujupmndln6J"
      },
      "source": [
        "#### Use one hot encoding technique to conver categorical varables to binary variables and append them to the feature Data Frame\r\n"
      ]
    },
    {
      "cell_type": "code",
      "metadata": {
        "colab": {
          "base_uri": "https://localhost:8080/",
          "height": 204
        },
        "id": "_lJoUUAhlb0k",
        "outputId": "969dc640-d049-49ae-d8f3-9188d0c0462f"
      },
      "source": [
        "Feature = df[['Principal','terms','age','Gender','weekend']]\r\n",
        "Feature = pd.concat([Feature,pd.get_dummies(df['education'])], axis=1)\r\n",
        "Feature.drop(['Master or Above'], axis = 1,inplace=True)\r\n",
        "Feature.head()"
      ],
      "execution_count": 38,
      "outputs": [
        {
          "output_type": "execute_result",
          "data": {
            "text/html": [
              "<div>\n",
              "<style scoped>\n",
              "    .dataframe tbody tr th:only-of-type {\n",
              "        vertical-align: middle;\n",
              "    }\n",
              "\n",
              "    .dataframe tbody tr th {\n",
              "        vertical-align: top;\n",
              "    }\n",
              "\n",
              "    .dataframe thead th {\n",
              "        text-align: right;\n",
              "    }\n",
              "</style>\n",
              "<table border=\"1\" class=\"dataframe\">\n",
              "  <thead>\n",
              "    <tr style=\"text-align: right;\">\n",
              "      <th></th>\n",
              "      <th>Principal</th>\n",
              "      <th>terms</th>\n",
              "      <th>age</th>\n",
              "      <th>Gender</th>\n",
              "      <th>weekend</th>\n",
              "      <th>Bechalor</th>\n",
              "      <th>High School or Below</th>\n",
              "      <th>college</th>\n",
              "    </tr>\n",
              "  </thead>\n",
              "  <tbody>\n",
              "    <tr>\n",
              "      <th>0</th>\n",
              "      <td>1000</td>\n",
              "      <td>30</td>\n",
              "      <td>45</td>\n",
              "      <td>0</td>\n",
              "      <td>0</td>\n",
              "      <td>0</td>\n",
              "      <td>1</td>\n",
              "      <td>0</td>\n",
              "    </tr>\n",
              "    <tr>\n",
              "      <th>1</th>\n",
              "      <td>1000</td>\n",
              "      <td>30</td>\n",
              "      <td>33</td>\n",
              "      <td>1</td>\n",
              "      <td>0</td>\n",
              "      <td>1</td>\n",
              "      <td>0</td>\n",
              "      <td>0</td>\n",
              "    </tr>\n",
              "    <tr>\n",
              "      <th>2</th>\n",
              "      <td>1000</td>\n",
              "      <td>15</td>\n",
              "      <td>27</td>\n",
              "      <td>0</td>\n",
              "      <td>0</td>\n",
              "      <td>0</td>\n",
              "      <td>0</td>\n",
              "      <td>1</td>\n",
              "    </tr>\n",
              "    <tr>\n",
              "      <th>3</th>\n",
              "      <td>1000</td>\n",
              "      <td>30</td>\n",
              "      <td>28</td>\n",
              "      <td>1</td>\n",
              "      <td>1</td>\n",
              "      <td>0</td>\n",
              "      <td>0</td>\n",
              "      <td>1</td>\n",
              "    </tr>\n",
              "    <tr>\n",
              "      <th>4</th>\n",
              "      <td>1000</td>\n",
              "      <td>30</td>\n",
              "      <td>29</td>\n",
              "      <td>0</td>\n",
              "      <td>1</td>\n",
              "      <td>0</td>\n",
              "      <td>0</td>\n",
              "      <td>1</td>\n",
              "    </tr>\n",
              "  </tbody>\n",
              "</table>\n",
              "</div>"
            ],
            "text/plain": [
              "   Principal  terms  age  ...  Bechalor  High School or Below  college\n",
              "0       1000     30   45  ...         0                     1        0\n",
              "1       1000     30   33  ...         1                     0        0\n",
              "2       1000     15   27  ...         0                     0        1\n",
              "3       1000     30   28  ...         0                     0        1\n",
              "4       1000     30   29  ...         0                     0        1\n",
              "\n",
              "[5 rows x 8 columns]"
            ]
          },
          "metadata": {
            "tags": []
          },
          "execution_count": 38
        }
      ]
    },
    {
      "cell_type": "markdown",
      "metadata": {
        "id": "7x1qyJTdlyPU"
      },
      "source": [
        "#  **Feature Selection** \r\n",
        "\r\n",
        "\r\n"
      ]
    },
    {
      "cell_type": "markdown",
      "metadata": {
        "id": "Pry66X9LmPiW"
      },
      "source": [
        "definde feature sets, X:"
      ]
    },
    {
      "cell_type": "code",
      "metadata": {
        "colab": {
          "base_uri": "https://localhost:8080/",
          "height": 204
        },
        "id": "0EK1B6vhlnAf",
        "outputId": "13b9b149-8c4a-4100-bc71-cf57579e8831"
      },
      "source": [
        "X = Feature\r\n",
        "X[0:5]"
      ],
      "execution_count": 39,
      "outputs": [
        {
          "output_type": "execute_result",
          "data": {
            "text/html": [
              "<div>\n",
              "<style scoped>\n",
              "    .dataframe tbody tr th:only-of-type {\n",
              "        vertical-align: middle;\n",
              "    }\n",
              "\n",
              "    .dataframe tbody tr th {\n",
              "        vertical-align: top;\n",
              "    }\n",
              "\n",
              "    .dataframe thead th {\n",
              "        text-align: right;\n",
              "    }\n",
              "</style>\n",
              "<table border=\"1\" class=\"dataframe\">\n",
              "  <thead>\n",
              "    <tr style=\"text-align: right;\">\n",
              "      <th></th>\n",
              "      <th>Principal</th>\n",
              "      <th>terms</th>\n",
              "      <th>age</th>\n",
              "      <th>Gender</th>\n",
              "      <th>weekend</th>\n",
              "      <th>Bechalor</th>\n",
              "      <th>High School or Below</th>\n",
              "      <th>college</th>\n",
              "    </tr>\n",
              "  </thead>\n",
              "  <tbody>\n",
              "    <tr>\n",
              "      <th>0</th>\n",
              "      <td>1000</td>\n",
              "      <td>30</td>\n",
              "      <td>45</td>\n",
              "      <td>0</td>\n",
              "      <td>0</td>\n",
              "      <td>0</td>\n",
              "      <td>1</td>\n",
              "      <td>0</td>\n",
              "    </tr>\n",
              "    <tr>\n",
              "      <th>1</th>\n",
              "      <td>1000</td>\n",
              "      <td>30</td>\n",
              "      <td>33</td>\n",
              "      <td>1</td>\n",
              "      <td>0</td>\n",
              "      <td>1</td>\n",
              "      <td>0</td>\n",
              "      <td>0</td>\n",
              "    </tr>\n",
              "    <tr>\n",
              "      <th>2</th>\n",
              "      <td>1000</td>\n",
              "      <td>15</td>\n",
              "      <td>27</td>\n",
              "      <td>0</td>\n",
              "      <td>0</td>\n",
              "      <td>0</td>\n",
              "      <td>0</td>\n",
              "      <td>1</td>\n",
              "    </tr>\n",
              "    <tr>\n",
              "      <th>3</th>\n",
              "      <td>1000</td>\n",
              "      <td>30</td>\n",
              "      <td>28</td>\n",
              "      <td>1</td>\n",
              "      <td>1</td>\n",
              "      <td>0</td>\n",
              "      <td>0</td>\n",
              "      <td>1</td>\n",
              "    </tr>\n",
              "    <tr>\n",
              "      <th>4</th>\n",
              "      <td>1000</td>\n",
              "      <td>30</td>\n",
              "      <td>29</td>\n",
              "      <td>0</td>\n",
              "      <td>1</td>\n",
              "      <td>0</td>\n",
              "      <td>0</td>\n",
              "      <td>1</td>\n",
              "    </tr>\n",
              "  </tbody>\n",
              "</table>\n",
              "</div>"
            ],
            "text/plain": [
              "   Principal  terms  age  ...  Bechalor  High School or Below  college\n",
              "0       1000     30   45  ...         0                     1        0\n",
              "1       1000     30   33  ...         1                     0        0\n",
              "2       1000     15   27  ...         0                     0        1\n",
              "3       1000     30   28  ...         0                     0        1\n",
              "4       1000     30   29  ...         0                     0        1\n",
              "\n",
              "[5 rows x 8 columns]"
            ]
          },
          "metadata": {
            "tags": []
          },
          "execution_count": 39
        }
      ]
    },
    {
      "cell_type": "code",
      "metadata": {
        "colab": {
          "base_uri": "https://localhost:8080/"
        },
        "id": "M54tfNTemU2V",
        "outputId": "07ff25f7-fc82-4c2d-f29c-e2669c81a92c"
      },
      "source": [
        "y = df['loan_status'].values\r\n",
        "y[0:5]"
      ],
      "execution_count": 40,
      "outputs": [
        {
          "output_type": "execute_result",
          "data": {
            "text/plain": [
              "array(['PAIDOFF', 'PAIDOFF', 'PAIDOFF', 'PAIDOFF', 'PAIDOFF'],\n",
              "      dtype=object)"
            ]
          },
          "metadata": {
            "tags": []
          },
          "execution_count": 40
        }
      ]
    },
    {
      "cell_type": "markdown",
      "metadata": {
        "id": "XO8VRDNGmb7-"
      },
      "source": [
        "#  Normalize Data\r\n"
      ]
    },
    {
      "cell_type": "code",
      "metadata": {
        "colab": {
          "base_uri": "https://localhost:8080/"
        },
        "id": "WCUk2-24mYWi",
        "outputId": "395542db-c3f6-4782-a752-e8862be74cba"
      },
      "source": [
        "X= preprocessing.StandardScaler().fit(X).transform(X)\r\n",
        "X[0:5]"
      ],
      "execution_count": 41,
      "outputs": [
        {
          "output_type": "execute_result",
          "data": {
            "text/plain": [
              "array([[ 0.51578458,  0.92071769,  2.33152555, -0.42056004, -1.20577805,\n",
              "        -0.38170062,  1.13639374, -0.86968108],\n",
              "       [ 0.51578458,  0.92071769,  0.34170148,  2.37778177, -1.20577805,\n",
              "         2.61985426, -0.87997669, -0.86968108],\n",
              "       [ 0.51578458, -0.95911111, -0.65321055, -0.42056004, -1.20577805,\n",
              "        -0.38170062, -0.87997669,  1.14984679],\n",
              "       [ 0.51578458,  0.92071769, -0.48739188,  2.37778177,  0.82934003,\n",
              "        -0.38170062, -0.87997669,  1.14984679],\n",
              "       [ 0.51578458,  0.92071769, -0.3215732 , -0.42056004,  0.82934003,\n",
              "        -0.38170062, -0.87997669,  1.14984679]])"
            ]
          },
          "metadata": {
            "tags": []
          },
          "execution_count": 41
        }
      ]
    },
    {
      "cell_type": "markdown",
      "metadata": {
        "id": "TqjS1-TsmmPd"
      },
      "source": [
        "## Classification\r\n",
        "\r\n",
        "Model Algorithms\r\n",
        "\r\n",
        "-   K Nearest Neighbor(KNN)\r\n",
        "-   Decision Tree\r\n",
        "-   Support Vector Machine\r\n",
        "-   Logistic Regression"
      ]
    },
    {
      "cell_type": "code",
      "metadata": {
        "id": "ATBdTG4HpnC5"
      },
      "source": [
        "from scipy.stats import randint\r\n",
        "from numpy import array\r\n",
        "from sklearn.neighbors import KNeighborsClassifier\r\n",
        "from sklearn.tree import DecisionTreeClassifier\r\n",
        "from sklearn.svm import SVC\r\n",
        "from sklearn.linear_model import LogisticRegression\r\n",
        "from sklearn.model_selection import train_test_split, cross_val_score, RandomizedSearchCV, GridSearchCV\r\n",
        "from sklearn import metrics\r\n",
        "from sklearn.metrics import confusion_matrix, classification_report, roc_curve, roc_auc_score, jaccard_score, f1_score, log_loss\r\n",
        "from sklearn.metrics import accuracy_score"
      ],
      "execution_count": 217,
      "outputs": []
    },
    {
      "cell_type": "code",
      "metadata": {
        "id": "u_O-q64Y4y47"
      },
      "source": [
        "trainScores={}"
      ],
      "execution_count": 226,
      "outputs": []
    },
    {
      "cell_type": "markdown",
      "metadata": {
        "id": "w132EREAnhQ1"
      },
      "source": [
        "# **1. k-Nearest Neighbors (KNN)**"
      ]
    },
    {
      "cell_type": "code",
      "metadata": {
        "colab": {
          "base_uri": "https://localhost:8080/"
        },
        "id": "EKD4lLSJmiWl",
        "outputId": "a38dc5d4-f0b7-4de8-8545-7e422824c21f"
      },
      "source": [
        "for k in range(1, 10):\r\n",
        "    clf_knn  = KNeighborsClassifier(n_neighbors = k).fit(X_train, y_train)\r\n",
        "    knn_yhat = clf_knn.predict(X_test)\r\n",
        "    print(\"For K = {} accuracy = {}\".format(k,accuracy_score(y_test,knn_yhat)))"
      ],
      "execution_count": 161,
      "outputs": [
        {
          "output_type": "stream",
          "text": [
            "For K = 1 accuracy = 0.7115384615384616\n",
            "For K = 2 accuracy = 0.625\n",
            "For K = 3 accuracy = 0.7211538461538461\n",
            "For K = 4 accuracy = 0.7211538461538461\n",
            "For K = 5 accuracy = 0.7307692307692307\n",
            "For K = 6 accuracy = 0.7115384615384616\n",
            "For K = 7 accuracy = 0.7211538461538461\n",
            "For K = 8 accuracy = 0.7211538461538461\n",
            "For K = 9 accuracy = 0.75\n"
          ],
          "name": "stdout"
        }
      ]
    },
    {
      "cell_type": "markdown",
      "metadata": {
        "id": "WGGo6maYZp_o"
      },
      "source": [
        "Seeing as how K with the accuracy of 9 is highest, lets build a model with k = 9"
      ]
    },
    {
      "cell_type": "code",
      "metadata": {
        "colab": {
          "base_uri": "https://localhost:8080/"
        },
        "id": "6_xK9nyZfC-Y",
        "outputId": "13eac3ba-618a-4a13-bc0e-2db94b94459a"
      },
      "source": [
        "best_clf_knn = KNeighborsClassifier(n_neighbors = 9).fit(X_train, y_train)\r\n",
        "best_clf_knn"
      ],
      "execution_count": 209,
      "outputs": [
        {
          "output_type": "execute_result",
          "data": {
            "text/plain": [
              "KNeighborsClassifier(algorithm='auto', leaf_size=30, metric='minkowski',\n",
              "                     metric_params=None, n_jobs=None, n_neighbors=9, p=2,\n",
              "                     weights='uniform')"
            ]
          },
          "metadata": {
            "tags": []
          },
          "execution_count": 209
        }
      ]
    },
    {
      "cell_type": "code",
      "metadata": {
        "colab": {
          "base_uri": "https://localhost:8080/"
        },
        "id": "BJ4UdFvnaXMa",
        "outputId": "3a6dcc1e-34d5-4043-a3cd-fc9c7b8a5d3c"
      },
      "source": [
        "Ks = 10\r\n",
        "mean_acc = np.zeros((Ks-1))\r\n",
        "std_acc = np.zeros((Ks-1))\r\n",
        "ConfustionMx = [];\r\n",
        "for n in range(1,Ks):\r\n",
        "    \r\n",
        "    #Train Model and Predict  \r\n",
        "    neigh = KNeighborsClassifier(n_neighbors = n).fit(X_train,y_train)\r\n",
        "    yhat=neigh.predict(X_test)\r\n",
        "    mean_acc[n-1] = metrics.accuracy_score(y_test, yhat)\r\n",
        "\r\n",
        "    \r\n",
        "    std_acc[n-1]=np.std(yhat==y_test)/np.sqrt(yhat.shape[0])\r\n",
        "\r\n",
        "mean_acc"
      ],
      "execution_count": 210,
      "outputs": [
        {
          "output_type": "execute_result",
          "data": {
            "text/plain": [
              "array([0.71153846, 0.625     , 0.72115385, 0.72115385, 0.73076923,\n",
              "       0.71153846, 0.72115385, 0.72115385, 0.75      ])"
            ]
          },
          "metadata": {
            "tags": []
          },
          "execution_count": 210
        }
      ]
    },
    {
      "cell_type": "code",
      "metadata": {
        "colab": {
          "base_uri": "https://localhost:8080/",
          "height": 280
        },
        "id": "E1yqGuBnbsqD",
        "outputId": "28447e41-8d24-44b9-f0e1-cd5ae34742b6"
      },
      "source": [
        "plt.plot(range(1,Ks),mean_acc,'c')\r\n",
        "plt.fill_between(range(1,Ks),mean_acc - 1 * std_acc,mean_acc + 1 * std_acc, alpha=0.10)\r\n",
        "plt.xlabel('K')\r\n",
        "plt.ylabel('Accuracy')\r\n",
        "plt.show()"
      ],
      "execution_count": 211,
      "outputs": [
        {
          "output_type": "display_data",
          "data": {
            "image/png": "[encoded data removed]",
            "text/plain": [
              "<Figure size 432x288 with 1 Axes>"
            ]
          },
          "metadata": {
            "tags": [],
            "needs_background": "light"
          }
        }
      ]
    },
    {
      "cell_type": "code",
      "metadata": {
        "colab": {
          "base_uri": "https://localhost:8080/"
        },
        "id": "6Z7yNW-E48Lm",
        "outputId": "7808066a-99b5-4795-d98c-6b03179624c1"
      },
      "source": [
        "trainScores['KNN-jaccard']=jaccard_similarity_score(y_train, y_pred)\r\n",
        "trainScores['KNN-f1-score']=f1_score(y_train, y_pred, average='weighted')\r\n",
        "trainScores"
      ],
      "execution_count": 228,
      "outputs": [
        {
          "output_type": "stream",
          "text": [
            "/usr/local/lib/python3.6/dist-packages/sklearn/metrics/_classification.py:664: FutureWarning: jaccard_similarity_score has been deprecated and replaced with jaccard_score. It will be removed in version 0.23. This implementation has surprising behavior for binary and multiclass classification tasks.\n",
            "  FutureWarning)\n"
          ],
          "name": "stderr"
        },
        {
          "output_type": "execute_result",
          "data": {
            "text/plain": [
              "{'KNN-f1-score': 0.9200945404457801, 'KNN-jaccard': 0.9173553719008265}"
            ]
          },
          "metadata": {
            "tags": []
          },
          "execution_count": 228
        }
      ]
    },
    {
      "cell_type": "markdown",
      "metadata": {
        "id": "-saXBYdkvnHw"
      },
      "source": [
        "# **2. Decision Trees**"
      ]
    },
    {
      "cell_type": "code",
      "metadata": {
        "id": "P1rXz3wPviUF"
      },
      "source": [
        "from sklearn.tree import DecisionTreeClassifier"
      ],
      "execution_count": 187,
      "outputs": []
    },
    {
      "cell_type": "code",
      "metadata": {
        "colab": {
          "base_uri": "https://localhost:8080/"
        },
        "id": "FDFRSgIj5dso",
        "outputId": "e3e8e8bf-2bfd-4edd-e4d9-8e9055ff924d"
      },
      "source": [
        "for d in range(1,10):\r\n",
        "    dt = DecisionTreeClassifier(criterion = 'entropy', max_depth = d).fit(X_train, y_train)\r\n",
        "    dt_yhat = dt.predict(X_test)\r\n",
        "    print(\"For depth = {}  the accuracy score is {} \".format(d, accuracy_score(y_test, dt_yhat)))"
      ],
      "execution_count": 188,
      "outputs": [
        {
          "output_type": "stream",
          "text": [
            "For depth = 1  the accuracy score is 0.7403846153846154 \n",
            "For depth = 2  the accuracy score is 0.7403846153846154 \n",
            "For depth = 3  the accuracy score is 0.7403846153846154 \n",
            "For depth = 4  the accuracy score is 0.7403846153846154 \n",
            "For depth = 5  the accuracy score is 0.7403846153846154 \n",
            "For depth = 6  the accuracy score is 0.7403846153846154 \n",
            "For depth = 7  the accuracy score is 0.75 \n",
            "For depth = 8  the accuracy score is 0.7115384615384616 \n",
            "For depth = 9  the accuracy score is 0.7019230769230769 \n"
          ],
          "name": "stdout"
        }
      ]
    },
    {
      "cell_type": "code",
      "metadata": {
        "id": "1mkJfB_8C0jR"
      },
      "source": [
        "bestScore=0.0\r\n",
        "accList=[]\r\n",
        "\r\n",
        "# using 10 fold cross validation for scoring the classifier's accuracy\r\n",
        "scores = cross_val_score(dt, X, y, cv=10)\r\n",
        "score=scores.mean()\r\n",
        "accList.append(score)\r\n",
        "    \r\n",
        "if score > bestScore:\r\n",
        "  bestScore=score\r\n",
        "  best_clf=dt\r\n",
        "  bestD=d"
      ],
      "execution_count": 189,
      "outputs": []
    },
    {
      "cell_type": "code",
      "metadata": {
        "colab": {
          "base_uri": "https://localhost:8080/"
        },
        "id": "0w55Y7fC81Hn",
        "outputId": "da50f155-deba-4019-d541-60fe78b94a08"
      },
      "source": [
        "print(\"Best D is :\",bestD,\"| Cross validation Accuracy :\",bestScore)\r\n",
        "dt=best_clf"
      ],
      "execution_count": 190,
      "outputs": [
        {
          "output_type": "stream",
          "text": [
            "Best D is : 9 | Cross validation Accuracy : 0.6577310924369748\n"
          ],
          "name": "stdout"
        }
      ]
    },
    {
      "cell_type": "code",
      "metadata": {
        "colab": {
          "base_uri": "https://localhost:8080/"
        },
        "id": "MoDmCJIIDv3z",
        "outputId": "0305016e-36e2-43b6-d970-c9a0caf8c09a"
      },
      "source": [
        "best_dt_model = DecisionTreeClassifier(criterion = 'entropy', max_depth = 9).fit(X_train, y_train)\r\n",
        "best_dt_model"
      ],
      "execution_count": 191,
      "outputs": [
        {
          "output_type": "execute_result",
          "data": {
            "text/plain": [
              "DecisionTreeClassifier(ccp_alpha=0.0, class_weight=None, criterion='entropy',\n",
              "                       max_depth=9, max_features=None, max_leaf_nodes=None,\n",
              "                       min_impurity_decrease=0.0, min_impurity_split=None,\n",
              "                       min_samples_leaf=1, min_samples_split=2,\n",
              "                       min_weight_fraction_leaf=0.0, presort='deprecated',\n",
              "                       random_state=None, splitter='best')"
            ]
          },
          "metadata": {
            "tags": []
          },
          "execution_count": 191
        }
      ]
    },
    {
      "cell_type": "code",
      "metadata": {
        "colab": {
          "base_uri": "https://localhost:8080/",
          "height": 1000
        },
        "id": "YDBY7sImGgFr",
        "outputId": "7ddfaba9-61e6-4ff2-a847-62f39a2b5e18"
      },
      "source": [
        "fig = plt.figure(figsize=(25,20))\r\n",
        "_ = tree.plot_tree(dt, \r\n",
        "                   feature_names=['Principal',\r\n",
        "                                    'terms','age',\r\n",
        "                                    'Gender',\r\n",
        "                                    'weekend',\r\n",
        "                                    'Bechalor',\r\n",
        "                                    'High School or Below',\r\n",
        "                                    'college',\r\n",
        "                                    'dayofweek',\r\n",
        "                                     #'deadline'\r\n",
        "#                                     ,'Month'\r\n",
        "                                   ],  \r\n",
        "                   class_names='loan_status',\r\n",
        "                   filled=True)\r\n",
        "fig"
      ],
      "execution_count": 192,
      "outputs": [
        {
          "output_type": "execute_result",
          "data": {
            "image/png": "[encoded data removed]",
            "text/plain": [
              "<Figure size 1800x1440 with 1 Axes>"
            ]
          },
          "metadata": {
            "tags": []
          },
          "execution_count": 192
        },
        {
          "output_type": "display_data",
          "data": {
            "image/png": "[encoded data removed]",
            "text/plain": [
              "<Figure size 1800x1440 with 1 Axes>"
            ]
          },
          "metadata": {
            "tags": [],
            "needs_background": "light"
          }
        }
      ]
    },
    {
      "cell_type": "code",
      "metadata": {
        "colab": {
          "base_uri": "https://localhost:8080/"
        },
        "id": "drjoXUvEdOsD",
        "outputId": "efbe9a56-c886-42f1-9aa0-96ce185b1112"
      },
      "source": [
        "md = 10\r\n",
        "mean_acc = np.zeros((md-1))\r\n",
        "std_acc = np.zeros((md-1))\r\n",
        "ConfustionMx = [];\r\n",
        "for n in range(1,md):\r\n",
        "    \r\n",
        "    #Train Model and Predict  \r\n",
        "    dt = DecisionTreeClassifier(criterion=\"entropy\", max_depth = n).fit(X_train,y_train)\r\n",
        "    yhat=loant.predict(X_test)\r\n",
        "    mean_acc[n-1] = metrics.accuracy_score(y_test, yhat)\r\n",
        "\r\n",
        "    \r\n",
        "    std_acc[n-1]=np.std(yhat==y_test)/np.sqrt(yhat.shape[0])\r\n",
        "\r\n",
        "mean_acc"
      ],
      "execution_count": 195,
      "outputs": [
        {
          "output_type": "execute_result",
          "data": {
            "text/plain": [
              "array([0.74038462, 0.74038462, 0.74038462, 0.74038462, 0.74038462,\n",
              "       0.74038462, 0.74038462, 0.74038462, 0.74038462])"
            ]
          },
          "metadata": {
            "tags": []
          },
          "execution_count": 195
        }
      ]
    },
    {
      "cell_type": "code",
      "metadata": {
        "colab": {
          "base_uri": "https://localhost:8080/"
        },
        "id": "n6gRPRHOHDDt",
        "outputId": "7f36cf3e-a818-4226-dd1c-be260a408a62"
      },
      "source": [
        "trainScores['Tree-jaccard']=jaccard_similarity_score(y_train, y_pred)\r\n",
        "trainScores['Tree-f1-score']=f1_score(y_train, y_pred, average='weighted')\r\n",
        "trainScores"
      ],
      "execution_count": 229,
      "outputs": [
        {
          "output_type": "stream",
          "text": [
            "/usr/local/lib/python3.6/dist-packages/sklearn/metrics/_classification.py:664: FutureWarning: jaccard_similarity_score has been deprecated and replaced with jaccard_score. It will be removed in version 0.23. This implementation has surprising behavior for binary and multiclass classification tasks.\n",
            "  FutureWarning)\n"
          ],
          "name": "stderr"
        },
        {
          "output_type": "execute_result",
          "data": {
            "text/plain": [
              "{'KNN-f1-score': 0.9200945404457801,\n",
              " 'KNN-jaccard': 0.9173553719008265,\n",
              " 'Tree-f1-score': 0.9200945404457801,\n",
              " 'Tree-jaccard': 0.9173553719008265}"
            ]
          },
          "metadata": {
            "tags": []
          },
          "execution_count": 229
        }
      ]
    },
    {
      "cell_type": "markdown",
      "metadata": {
        "id": "jqveiIJiQn0R"
      },
      "source": [
        "# **3. Support Vector Machines (SVM)**"
      ]
    },
    {
      "cell_type": "code",
      "metadata": {
        "id": "iOU8n_6Rn4Ph"
      },
      "source": [
        "from sklearn import svm \r\n",
        "from sklearn.metrics import f1_score"
      ],
      "execution_count": 266,
      "outputs": []
    },
    {
      "cell_type": "code",
      "metadata": {
        "colab": {
          "base_uri": "https://localhost:8080/"
        },
        "id": "PMqM6ygjJdRu",
        "outputId": "b077fcf8-56e2-4d3c-a029-2fcce8c96829"
      },
      "source": [
        "for k in ('linear', 'poly', 'rbf','sigmoid'):\r\n",
        "    svm_model = svm.SVC( kernel = k).fit(X_train,y_train)\r\n",
        "    svm_yhat = svm_model.predict(X_test)\r\n",
        "    print(\"For kernel: {}, the f1 score is: {}\".format(k,f1_score(y_test,svm_yhat, average='weighted')))"
      ],
      "execution_count": 269,
      "outputs": [
        {
          "output_type": "stream",
          "text": [
            "For kernel: linear, the f1 score is: 0.6299405014874628\n",
            "For kernel: poly, the f1 score is: 0.6668539325842696\n",
            "For kernel: rbf, the f1 score is: 0.651984126984127\n",
            "For kernel: sigmoid, the f1 score is: 0.615600691443388\n"
          ],
          "name": "stdout"
        }
      ]
    },
    {
      "cell_type": "markdown",
      "metadata": {
        "id": "gQEbh9kHRswC"
      },
      "source": [
        "We can see that the polynomial kernel is highest, with a score of (66%), hence we shall run a SVM Classifier with a Polynomial Kernel :)"
      ]
    },
    {
      "cell_type": "code",
      "metadata": {
        "colab": {
          "base_uri": "https://localhost:8080/"
        },
        "id": "xnX7-vpaNfBj",
        "outputId": "ffcaa719-7c5e-482e-d257-010e9289a0ec"
      },
      "source": [
        "best_svm = svm.SVC(kernel='poly').fit(X_train,y_train)\r\n",
        "best_svm"
      ],
      "execution_count": 270,
      "outputs": [
        {
          "output_type": "execute_result",
          "data": {
            "text/plain": [
              "SVC(C=1.0, break_ties=False, cache_size=200, class_weight=None, coef0=0.0,\n",
              "    decision_function_shape='ovr', degree=3, gamma='scale', kernel='poly',\n",
              "    max_iter=-1, probability=False, random_state=None, shrinking=True,\n",
              "    tol=0.001, verbose=False)"
            ]
          },
          "metadata": {
            "tags": []
          },
          "execution_count": 270
        }
      ]
    },
    {
      "cell_type": "code",
      "metadata": {
        "colab": {
          "base_uri": "https://localhost:8080/"
        },
        "id": "HwXPrEe9OW38",
        "outputId": "42a6c850-21b6-4c95-e389-18179b089a6d"
      },
      "source": [
        "trainScores['SVM-jaccard']=jaccard_similarity_score(y_train, y_pred)\r\n",
        "trainScores['SVM-f1-score']=f1_score(y_train, y_pred, average='weighted')\r\n",
        "\r\n",
        "trainScores"
      ],
      "execution_count": 271,
      "outputs": [
        {
          "output_type": "stream",
          "text": [
            "/usr/local/lib/python3.6/dist-packages/sklearn/metrics/_classification.py:664: FutureWarning: jaccard_similarity_score has been deprecated and replaced with jaccard_score. It will be removed in version 0.23. This implementation has surprising behavior for binary and multiclass classification tasks.\n",
            "  FutureWarning)\n"
          ],
          "name": "stderr"
        },
        {
          "output_type": "execute_result",
          "data": {
            "text/plain": [
              "{'KNN-f1-score': 0.9200945404457801,\n",
              " 'KNN-jaccard': 0.9173553719008265,\n",
              " 'LogReg-f1-score': 0.9200945404457801,\n",
              " 'LogReg-jaccard': 0.9173553719008265,\n",
              " 'SVM-f1-score': 0.9200945404457801,\n",
              " 'SVM-jaccard': 0.9173553719008265,\n",
              " 'Tree-f1-score': 0.9200945404457801,\n",
              " 'Tree-jaccard': 0.9173553719008265}"
            ]
          },
          "metadata": {
            "tags": []
          },
          "execution_count": 271
        }
      ]
    },
    {
      "cell_type": "markdown",
      "metadata": {
        "id": "Qcd1vB6IQ3Nf"
      },
      "source": [
        "# **4. Logistic Regression**"
      ]
    },
    {
      "cell_type": "code",
      "metadata": {
        "id": "HoMQmBHaQ8ZT"
      },
      "source": [
        "from sklearn.linear_model import LogisticRegression \r\n",
        "from sklearn.metrics import log_loss"
      ],
      "execution_count": 145,
      "outputs": []
    },
    {
      "cell_type": "code",
      "metadata": {
        "colab": {
          "base_uri": "https://localhost:8080/"
        },
        "id": "OBL4_fttRBVI",
        "outputId": "4a27a01f-df13-4feb-ddeb-789886c82637"
      },
      "source": [
        "for k in ('lbfgs', 'saga', 'liblinear', 'newton-cg', 'sag'):\r\n",
        "    clf_lr = LogisticRegression(C = 0.01, solver = k).fit(X_train, y_train)\r\n",
        "    lr_yhat = clf_lr.predict(X_test)\r\n",
        "    y_prob = clf_lr.predict_proba(X_test)\r\n",
        "    print('if the solver is {}, then the logloss becomes : {}'.format(k, log_loss(y_test, y_prob)))"
      ],
      "execution_count": 148,
      "outputs": [
        {
          "output_type": "stream",
          "text": [
            "if the solver is lbfgs, then the logloss becomes : 0.5225896323637266\n",
            "if the solver is saga, then the logloss becomes : 0.5225893602853563\n",
            "if the solver is liblinear, then the logloss becomes : 0.5762236891512358\n",
            "if the solver is newton-cg, then the logloss becomes : 0.5225889746839594\n",
            "if the solver is sag, then the logloss becomes : 0.5225936516690537\n"
          ],
          "name": "stdout"
        }
      ]
    },
    {
      "cell_type": "markdown",
      "metadata": {
        "id": "J2-KNarUSoTb"
      },
      "source": [
        "We can see that the 'liblinear' model returned the highest logloss value (57%), hence we shall build with this model.\r\n"
      ]
    },
    {
      "cell_type": "code",
      "metadata": {
        "colab": {
          "base_uri": "https://localhost:8080/"
        },
        "id": "eKb6i-1RTJ9y",
        "outputId": "52e44b08-b81e-4e9d-8abb-fb7248c5bf7e"
      },
      "source": [
        "best_clf_lr = LogisticRegression(C = 0.01, solver = 'liblinear').fit(X_train, y_train)\r\n",
        "best_clf_lr"
      ],
      "execution_count": 149,
      "outputs": [
        {
          "output_type": "execute_result",
          "data": {
            "text/plain": [
              "LogisticRegression(C=0.01, class_weight=None, dual=False, fit_intercept=True,\n",
              "                   intercept_scaling=1, l1_ratio=None, max_iter=100,\n",
              "                   multi_class='auto', n_jobs=None, penalty='l2',\n",
              "                   random_state=None, solver='liblinear', tol=0.0001, verbose=0,\n",
              "                   warm_start=False)"
            ]
          },
          "metadata": {
            "tags": []
          },
          "execution_count": 149
        }
      ]
    },
    {
      "cell_type": "code",
      "metadata": {
        "colab": {
          "base_uri": "https://localhost:8080/"
        },
        "id": "vqWaGksXTdlS",
        "outputId": "9aa7e721-baa2-420e-d367-4535051c2bcb"
      },
      "source": [
        "trainScores['LogReg-jaccard']=jaccard_similarity_score(y_train, y_pred)\r\n",
        "trainScores['LogReg-f1-score']=f1_score(y_train, y_pred, average='weighted')  \r\n",
        "trainScores"
      ],
      "execution_count": 241,
      "outputs": [
        {
          "output_type": "stream",
          "text": [
            "/usr/local/lib/python3.6/dist-packages/sklearn/metrics/_classification.py:664: FutureWarning: jaccard_similarity_score has been deprecated and replaced with jaccard_score. It will be removed in version 0.23. This implementation has surprising behavior for binary and multiclass classification tasks.\n",
            "  FutureWarning)\n"
          ],
          "name": "stderr"
        },
        {
          "output_type": "execute_result",
          "data": {
            "text/plain": [
              "{'KNN-f1-score': 0.9200945404457801,\n",
              " 'KNN-jaccard': 0.9173553719008265,\n",
              " 'LogReg-f1-score': 0.9200945404457801,\n",
              " 'LogReg-jaccard': 0.9173553719008265,\n",
              " 'SVM-f1-score': 0.9200945404457801,\n",
              " 'SVM-jaccard': 0.9173553719008265,\n",
              " 'Tree-f1-score': 0.9200945404457801,\n",
              " 'Tree-jaccard': 0.9173553719008265}"
            ]
          },
          "metadata": {
            "tags": []
          },
          "execution_count": 241
        }
      ]
    },
    {
      "cell_type": "markdown",
      "metadata": {
        "id": "u48j2J1lVlOb"
      },
      "source": [
        "# **Model Evaluation using Test set**"
      ]
    },
    {
      "cell_type": "code",
      "metadata": {
        "colab": {
          "base_uri": "https://localhost:8080/"
        },
        "id": "K1XfPZEcVoKB",
        "outputId": "2bb349a8-a0d7-4c46-c7a6-50d29461b189"
      },
      "source": [
        "!wget -O loan_test.csv https://s3-api.us-geo.objectstorage.softlayer.net/cf-courses-data/CognitiveClass/ML0101ENv3/labs/loan_test.csv"
      ],
      "execution_count": 243,
      "outputs": [
        {
          "output_type": "stream",
          "text": [
            "--2020-12-18 20:34:01--  https://s3-api.us-geo.objectstorage.softlayer.net/cf-courses-data/CognitiveClass/ML0101ENv3/labs/loan_test.csv\n",
            "Resolving s3-api.us-geo.objectstorage.softlayer.net (s3-api.us-geo.objectstorage.softlayer.net)... 67.228.254.196\n",
            "Connecting to s3-api.us-geo.objectstorage.softlayer.net (s3-api.us-geo.objectstorage.softlayer.net)|67.228.254.196|:443... connected.\n",
            "HTTP request sent, awaiting response... 200 OK\n",
            "Length: 3642 (3.6K) [text/csv]\n",
            "Saving to: ‘loan_test.csv’\n",
            "\n",
            "loan_test.csv       100%[===================>]   3.56K  --.-KB/s    in 0s      \n",
            "\n",
            "2020-12-18 20:34:02 (751 MB/s) - ‘loan_test.csv’ saved [3642/3642]\n",
            "\n"
          ],
          "name": "stdout"
        }
      ]
    },
    {
      "cell_type": "code",
      "metadata": {
        "id": "IdlWT3UVVuQq"
      },
      "source": [
        "from sklearn.metrics import jaccard_score\r\n",
        "from sklearn.metrics import f1_score\r\n",
        "from sklearn.metrics import log_loss"
      ],
      "execution_count": 244,
      "outputs": []
    },
    {
      "cell_type": "code",
      "metadata": {
        "colab": {
          "base_uri": "https://localhost:8080/",
          "height": 204
        },
        "id": "h8PtgygZV0Ds",
        "outputId": "ae706c98-fcd3-49ea-9279-bae089b11284"
      },
      "source": [
        "test_df = pd.read_csv('loan_test.csv')\r\n",
        "test_df.head()"
      ],
      "execution_count": 245,
      "outputs": [
        {
          "output_type": "execute_result",
          "data": {
            "text/html": [
              "<div>\n",
              "<style scoped>\n",
              "    .dataframe tbody tr th:only-of-type {\n",
              "        vertical-align: middle;\n",
              "    }\n",
              "\n",
              "    .dataframe tbody tr th {\n",
              "        vertical-align: top;\n",
              "    }\n",
              "\n",
              "    .dataframe thead th {\n",
              "        text-align: right;\n",
              "    }\n",
              "</style>\n",
              "<table border=\"1\" class=\"dataframe\">\n",
              "  <thead>\n",
              "    <tr style=\"text-align: right;\">\n",
              "      <th></th>\n",
              "      <th>Unnamed: 0</th>\n",
              "      <th>Unnamed: 0.1</th>\n",
              "      <th>loan_status</th>\n",
              "      <th>Principal</th>\n",
              "      <th>terms</th>\n",
              "      <th>effective_date</th>\n",
              "      <th>due_date</th>\n",
              "      <th>age</th>\n",
              "      <th>education</th>\n",
              "      <th>Gender</th>\n",
              "    </tr>\n",
              "  </thead>\n",
              "  <tbody>\n",
              "    <tr>\n",
              "      <th>0</th>\n",
              "      <td>1</td>\n",
              "      <td>1</td>\n",
              "      <td>PAIDOFF</td>\n",
              "      <td>1000</td>\n",
              "      <td>30</td>\n",
              "      <td>9/8/2016</td>\n",
              "      <td>10/7/2016</td>\n",
              "      <td>50</td>\n",
              "      <td>Bechalor</td>\n",
              "      <td>female</td>\n",
              "    </tr>\n",
              "    <tr>\n",
              "      <th>1</th>\n",
              "      <td>5</td>\n",
              "      <td>5</td>\n",
              "      <td>PAIDOFF</td>\n",
              "      <td>300</td>\n",
              "      <td>7</td>\n",
              "      <td>9/9/2016</td>\n",
              "      <td>9/15/2016</td>\n",
              "      <td>35</td>\n",
              "      <td>Master or Above</td>\n",
              "      <td>male</td>\n",
              "    </tr>\n",
              "    <tr>\n",
              "      <th>2</th>\n",
              "      <td>21</td>\n",
              "      <td>21</td>\n",
              "      <td>PAIDOFF</td>\n",
              "      <td>1000</td>\n",
              "      <td>30</td>\n",
              "      <td>9/10/2016</td>\n",
              "      <td>10/9/2016</td>\n",
              "      <td>43</td>\n",
              "      <td>High School or Below</td>\n",
              "      <td>female</td>\n",
              "    </tr>\n",
              "    <tr>\n",
              "      <th>3</th>\n",
              "      <td>24</td>\n",
              "      <td>24</td>\n",
              "      <td>PAIDOFF</td>\n",
              "      <td>1000</td>\n",
              "      <td>30</td>\n",
              "      <td>9/10/2016</td>\n",
              "      <td>10/9/2016</td>\n",
              "      <td>26</td>\n",
              "      <td>college</td>\n",
              "      <td>male</td>\n",
              "    </tr>\n",
              "    <tr>\n",
              "      <th>4</th>\n",
              "      <td>35</td>\n",
              "      <td>35</td>\n",
              "      <td>PAIDOFF</td>\n",
              "      <td>800</td>\n",
              "      <td>15</td>\n",
              "      <td>9/11/2016</td>\n",
              "      <td>9/25/2016</td>\n",
              "      <td>29</td>\n",
              "      <td>Bechalor</td>\n",
              "      <td>male</td>\n",
              "    </tr>\n",
              "  </tbody>\n",
              "</table>\n",
              "</div>"
            ],
            "text/plain": [
              "   Unnamed: 0  Unnamed: 0.1 loan_status  ...  age             education  Gender\n",
              "0           1             1     PAIDOFF  ...   50              Bechalor  female\n",
              "1           5             5     PAIDOFF  ...   35       Master or Above    male\n",
              "2          21            21     PAIDOFF  ...   43  High School or Below  female\n",
              "3          24            24     PAIDOFF  ...   26               college    male\n",
              "4          35            35     PAIDOFF  ...   29              Bechalor    male\n",
              "\n",
              "[5 rows x 10 columns]"
            ]
          },
          "metadata": {
            "tags": []
          },
          "execution_count": 245
        }
      ]
    },
    {
      "cell_type": "code",
      "metadata": {
        "id": "HuMj583jV4Ig"
      },
      "source": [
        "test_df['due_date'] = pd.to_datetime(test_df['due_date'])\r\n",
        "test_df['effective_date'] = pd.to_datetime(test_df['effective_date'])\r\n",
        "test_df['dayofweek'] = test_df['effective_date'].dt.dayofweek\r\n",
        "test_df['weekend'] = test_df['dayofweek'].apply(lambda x: 1 if (x>3)  else 0)\r\n",
        "test_df['Gender'].replace(to_replace=['male','female'], value=[0,1],inplace=True)\r\n",
        "\r\n",
        "Feature1 = test_df[['Principal','terms','age','Gender','weekend']]\r\n",
        "Feature1 = pd.concat([Feature1,pd.get_dummies(test_df['education'])], axis=1)\r\n",
        "Feature1.drop(['Master or Above'], axis = 1,inplace=True)\r\n",
        "\r\n",
        "\r\n",
        "x_loan_test = Feature1\r\n",
        "x_loan_test = preprocessing.StandardScaler().fit(x_loan_test).transform(x_loan_test)\r\n",
        "\r\n",
        "y_loan_test = test_df['loan_status'].values"
      ],
      "execution_count": 247,
      "outputs": []
    },
    {
      "cell_type": "markdown",
      "metadata": {
        "id": "_tEfOUaaYO52"
      },
      "source": [
        "K-Nearest Neighbours Test Scores\r\n"
      ]
    },
    {
      "cell_type": "code",
      "metadata": {
        "colab": {
          "base_uri": "https://localhost:8080/"
        },
        "id": "yRCXSHCfXNEB",
        "outputId": "e4221260-75da-4a9e-ec62-a7d4b8ec85b1"
      },
      "source": [
        "yhat_clf_knn = clf_knn.predict(X_test)\r\n",
        "\r\n",
        "# Calculate the f1 score\r\n",
        "f1_clf_knn = f1_score(y_test, yhat_clf_knn, average='weighted') \r\n",
        "\r\n",
        "#Calculate the Jaccard index# Predict using the model\r\n",
        "jsc_clf_knn = round(jaccard_similarity_score(y_test, yhat_clf_knn),2)\r\n",
        "\r\n",
        "print('Jaccard index is ',jsc_clf_knn)\r\n",
        "print('f1 score is ',f1_clf_knn)\r\n"
      ],
      "execution_count": 280,
      "outputs": [
        {
          "output_type": "stream",
          "text": [
            "Jaccard index is  0.75\n",
            "f1 score is  0.7292128603104213\n"
          ],
          "name": "stdout"
        },
        {
          "output_type": "stream",
          "text": [
            "/usr/local/lib/python3.6/dist-packages/sklearn/metrics/_classification.py:664: FutureWarning: jaccard_similarity_score has been deprecated and replaced with jaccard_score. It will be removed in version 0.23. This implementation has surprising behavior for binary and multiclass classification tasks.\n",
            "  FutureWarning)\n"
          ],
          "name": "stderr"
        }
      ]
    },
    {
      "cell_type": "markdown",
      "metadata": {
        "id": "jpbKQVB6iCu-"
      },
      "source": [
        "Decision Trees test scores"
      ]
    },
    {
      "cell_type": "code",
      "metadata": {
        "colab": {
          "base_uri": "https://localhost:8080/"
        },
        "id": "FDlGdSE5iCSH",
        "outputId": "539848f7-885e-401a-840b-9219666d994f"
      },
      "source": [
        "yhat_dt= dt.predict(X_test)\r\n",
        "\r\n",
        "# Calculate the f1 score\r\n",
        "f1_dt = f1_score(y_test, yhat_dt, average='weighted') \r\n",
        "\r\n",
        "#Calculate the Jaccard index# Predict using the model\r\n",
        "jsc_dt = round(jaccard_similarity_score(y_test, yhat_dt),2)\r\n",
        "\r\n",
        "print('Jaccard index is ',jsc_dt)\r\n",
        "print('f1 score is ',f1_dt)"
      ],
      "execution_count": 279,
      "outputs": [
        {
          "output_type": "stream",
          "text": [
            "Jaccard index is  0.7\n",
            "f1 score is  0.6482626351047404\n"
          ],
          "name": "stdout"
        },
        {
          "output_type": "stream",
          "text": [
            "/usr/local/lib/python3.6/dist-packages/sklearn/metrics/_classification.py:664: FutureWarning: jaccard_similarity_score has been deprecated and replaced with jaccard_score. It will be removed in version 0.23. This implementation has surprising behavior for binary and multiclass classification tasks.\n",
            "  FutureWarning)\n"
          ],
          "name": "stderr"
        }
      ]
    },
    {
      "cell_type": "markdown",
      "metadata": {
        "id": "wODl6T1LlAfT"
      },
      "source": [
        "SVM Test Scores"
      ]
    },
    {
      "cell_type": "code",
      "metadata": {
        "colab": {
          "base_uri": "https://localhost:8080/"
        },
        "id": "XxK7rmZJlCHZ",
        "outputId": "be108afd-6031-4509-9936-0647881798cb"
      },
      "source": [
        "yhat_svm = svm_model.predict(X_test)\r\n",
        "\r\n",
        "# Calculate the f1 score\r\n",
        "f1_svm = f1_score(y_test, yhat_svm, average='weighted') \r\n",
        "\r\n",
        "#Calculate the Jaccard index# Predict using the model\r\n",
        "jsc_svm = round(jaccard_similarity_score(y_test, yhat_svm),2)\r\n",
        "\r\n",
        "print('Jaccard index is ',jsc_svm)\r\n",
        "print('f1 score is ',f1_svm)"
      ],
      "execution_count": 278,
      "outputs": [
        {
          "output_type": "stream",
          "text": [
            "Jaccard index is  0.71\n",
            "f1 score is  0.615600691443388\n"
          ],
          "name": "stdout"
        },
        {
          "output_type": "stream",
          "text": [
            "/usr/local/lib/python3.6/dist-packages/sklearn/metrics/_classification.py:664: FutureWarning: jaccard_similarity_score has been deprecated and replaced with jaccard_score. It will be removed in version 0.23. This implementation has surprising behavior for binary and multiclass classification tasks.\n",
            "  FutureWarning)\n"
          ],
          "name": "stderr"
        }
      ]
    },
    {
      "cell_type": "markdown",
      "metadata": {
        "id": "Z6t3orHGo_Cj"
      },
      "source": [
        "Logistic Regression test scores\r\n"
      ]
    },
    {
      "cell_type": "code",
      "metadata": {
        "colab": {
          "base_uri": "https://localhost:8080/"
        },
        "id": "k_vXLdASmIEN",
        "outputId": "2779c943-acb1-43ae-c35b-6c2f94dff705"
      },
      "source": [
        "yhat_clf_lr = clf_lr.predict(X_test)\r\n",
        "\r\n",
        "# Calculate the f1 score\r\n",
        "f1_clf_lr = f1_score(y_test,yhat_clf_lr, average='weighted')\r\n",
        "\r\n",
        "#Calculate the Jacard index# Predict using the model\r\n",
        "jsc_clf_lr = round(jaccard_similarity_score(y_test, yhat_clf_lr),2)\r\n",
        "\r\n",
        "print('Jaccard index is ',jsc_clf_lr)\r\n",
        "print('f1 score is ',f1_clf_lr)"
      ],
      "execution_count": 282,
      "outputs": [
        {
          "output_type": "stream",
          "text": [
            "Jaccard index is  0.74\n",
            "f1 score is  0.6299405014874628\n"
          ],
          "name": "stdout"
        },
        {
          "output_type": "stream",
          "text": [
            "/usr/local/lib/python3.6/dist-packages/sklearn/metrics/_classification.py:664: FutureWarning: jaccard_similarity_score has been deprecated and replaced with jaccard_score. It will be removed in version 0.23. This implementation has surprising behavior for binary and multiclass classification tasks.\n",
            "  FutureWarning)\n"
          ],
          "name": "stderr"
        }
      ]
    },
    {
      "cell_type": "code",
      "metadata": {
        "colab": {
          "base_uri": "https://localhost:8080/"
        },
        "id": "GAGX8o6yqwHx",
        "outputId": "4203846f-6c5d-49a8-93bf-f1bd82639712"
      },
      "source": [
        "lr_prob = best_clf_lr.predict_proba(x_loan_test)\r\n",
        "ll_list = ['NA','NA','NA', round(log_loss(y_loan_test,lr_prob), 2)]\r\n",
        "ll_list"
      ],
      "execution_count": 284,
      "outputs": [
        {
          "output_type": "execute_result",
          "data": {
            "text/plain": [
              "['NA', 'NA', 'NA', 0.58]"
            ]
          },
          "metadata": {
            "tags": []
          },
          "execution_count": 284
        }
      ]
    },
    {
      "cell_type": "code",
      "metadata": {
        "colab": {
          "base_uri": "https://localhost:8080/",
          "height": 173
        },
        "id": "pNUyMsWCrh7X",
        "outputId": "d0c7bc42-90a7-40f9-a00a-6e511d04dbd9"
      },
      "source": [
        "Jaccard = [jsc_clf_knn,jsc_dt,jsc_svm,jsc_clf_lr]\r\n",
        "F1_score = [f1_clf_knn,f1_dt,f1_svm,f1_clf_lr]\r\n",
        "LogLoss = ['NA','NA','NA',round(log_loss(y_loan_test,lr_prob), 2)]\r\n",
        "\r\n",
        "    \r\n",
        "df = {'Algorithm': ['KNN', 'Decistion Tree', 'SVM', 'LogisticRegression'], \\\r\n",
        "     'Jaccard': Jaccard, 'F1-score': F1_score, 'LogLoss': LogLoss}\r\n",
        "\r\n",
        "Report = pd.DataFrame(data=df, columns=['Algorithm', 'Jaccard', 'F1-score', 'LogLoss'], index=None)\r\n",
        "Report"
      ],
      "execution_count": 306,
      "outputs": [
        {
          "output_type": "execute_result",
          "data": {
            "text/html": [
              "<div>\n",
              "<style scoped>\n",
              "    .dataframe tbody tr th:only-of-type {\n",
              "        vertical-align: middle;\n",
              "    }\n",
              "\n",
              "    .dataframe tbody tr th {\n",
              "        vertical-align: top;\n",
              "    }\n",
              "\n",
              "    .dataframe thead th {\n",
              "        text-align: right;\n",
              "    }\n",
              "</style>\n",
              "<table border=\"1\" class=\"dataframe\">\n",
              "  <thead>\n",
              "    <tr style=\"text-align: right;\">\n",
              "      <th></th>\n",
              "      <th>Algorithm</th>\n",
              "      <th>Jaccard</th>\n",
              "      <th>F1-score</th>\n",
              "      <th>LogLoss</th>\n",
              "    </tr>\n",
              "  </thead>\n",
              "  <tbody>\n",
              "    <tr>\n",
              "      <th>0</th>\n",
              "      <td>KNN</td>\n",
              "      <td>0.75</td>\n",
              "      <td>0.729213</td>\n",
              "      <td>NA</td>\n",
              "    </tr>\n",
              "    <tr>\n",
              "      <th>1</th>\n",
              "      <td>Decistion Tree</td>\n",
              "      <td>0.70</td>\n",
              "      <td>0.648263</td>\n",
              "      <td>NA</td>\n",
              "    </tr>\n",
              "    <tr>\n",
              "      <th>2</th>\n",
              "      <td>SVM</td>\n",
              "      <td>0.71</td>\n",
              "      <td>0.615601</td>\n",
              "      <td>NA</td>\n",
              "    </tr>\n",
              "    <tr>\n",
              "      <th>3</th>\n",
              "      <td>LogisticRegression</td>\n",
              "      <td>0.74</td>\n",
              "      <td>0.629941</td>\n",
              "      <td>0.58</td>\n",
              "    </tr>\n",
              "  </tbody>\n",
              "</table>\n",
              "</div>"
            ],
            "text/plain": [
              "            Algorithm  Jaccard  F1-score LogLoss\n",
              "0                 KNN     0.75  0.729213      NA\n",
              "1      Decistion Tree     0.70  0.648263      NA\n",
              "2                 SVM     0.71  0.615601      NA\n",
              "3  LogisticRegression     0.74  0.629941    0.58"
            ]
          },
          "metadata": {
            "tags": []
          },
          "execution_count": 306
        }
      ]
    },
    {
      "cell_type": "code",
      "metadata": {
        "id": "5ZhfqMv3sx2S"
      },
      "source": [
        ""
      ],
      "execution_count": null,
      "outputs": []
    }
  ]
}